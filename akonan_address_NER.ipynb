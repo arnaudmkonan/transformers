{
  "nbformat": 4,
  "nbformat_minor": 0,
  "metadata": {
    "colab": {
      "provenance": [],
      "collapsed_sections": [],
      "machine_shape": "hm",
      "include_colab_link": true
    },
    "kernelspec": {
      "name": "python3",
      "display_name": "Python 3"
    },
    "accelerator": "GPU",
    "widgets": {
      "application/vnd.jupyter.widget-state+json": {
        "a58a66392b644b1384661e850c077a6c": {
          "model_module": "@jupyter-widgets/controls",
          "model_name": "HBoxModel",
          "state": {
            "_view_name": "HBoxView",
            "_dom_classes": [],
            "_model_name": "HBoxModel",
            "_view_module": "@jupyter-widgets/controls",
            "_model_module_version": "1.5.0",
            "_view_count": null,
            "_view_module_version": "1.5.0",
            "box_style": "",
            "layout": "IPY_MODEL_a491e8caa0a048beb3b5259f14eb233f",
            "_model_module": "@jupyter-widgets/controls",
            "children": [
              "IPY_MODEL_837c9ddc3d594e088891874560c646b8",
              "IPY_MODEL_dbf50873d62c4ba39321faefbed0cca5"
            ]
          },
          "model_module_version": "1.5.0"
        },
        "a491e8caa0a048beb3b5259f14eb233f": {
          "model_module": "@jupyter-widgets/base",
          "model_name": "LayoutModel",
          "state": {
            "_view_name": "LayoutView",
            "grid_template_rows": null,
            "right": null,
            "justify_content": null,
            "_view_module": "@jupyter-widgets/base",
            "overflow": null,
            "_model_module_version": "1.2.0",
            "_view_count": null,
            "flex_flow": null,
            "width": null,
            "min_width": null,
            "border": null,
            "align_items": null,
            "bottom": null,
            "_model_module": "@jupyter-widgets/base",
            "top": null,
            "grid_column": null,
            "overflow_y": null,
            "overflow_x": null,
            "grid_auto_flow": null,
            "grid_area": null,
            "grid_template_columns": null,
            "flex": null,
            "_model_name": "LayoutModel",
            "justify_items": null,
            "grid_row": null,
            "max_height": null,
            "align_content": null,
            "visibility": null,
            "align_self": null,
            "height": null,
            "min_height": null,
            "padding": null,
            "grid_auto_rows": null,
            "grid_gap": null,
            "max_width": null,
            "order": null,
            "_view_module_version": "1.2.0",
            "grid_template_areas": null,
            "object_position": null,
            "object_fit": null,
            "grid_auto_columns": null,
            "margin": null,
            "display": null,
            "left": null
          },
          "model_module_version": "1.2.0"
        },
        "837c9ddc3d594e088891874560c646b8": {
          "model_module": "@jupyter-widgets/controls",
          "model_name": "FloatProgressModel",
          "state": {
            "_view_name": "ProgressView",
            "style": "IPY_MODEL_40bf955ba0284e84b198da6be8654219",
            "_dom_classes": [],
            "description": "Epoch: 100%",
            "_model_name": "FloatProgressModel",
            "bar_style": "success",
            "max": 1,
            "_view_module": "@jupyter-widgets/controls",
            "_model_module_version": "1.5.0",
            "value": 1,
            "_view_count": null,
            "_view_module_version": "1.5.0",
            "orientation": "horizontal",
            "min": 0,
            "description_tooltip": null,
            "_model_module": "@jupyter-widgets/controls",
            "layout": "IPY_MODEL_fe20a8dae6e84628b5076d02183090f5"
          },
          "model_module_version": "1.5.0"
        },
        "dbf50873d62c4ba39321faefbed0cca5": {
          "model_module": "@jupyter-widgets/controls",
          "model_name": "HTMLModel",
          "state": {
            "_view_name": "HTMLView",
            "style": "IPY_MODEL_93b3f9eae3cb4e3e859cf456e3547c6d",
            "_dom_classes": [],
            "description": "",
            "_model_name": "HTMLModel",
            "placeholder": "​",
            "_view_module": "@jupyter-widgets/controls",
            "_model_module_version": "1.5.0",
            "value": " 1/1 [2:46:46&lt;00:00, 10006.17s/it]",
            "_view_count": null,
            "_view_module_version": "1.5.0",
            "description_tooltip": null,
            "_model_module": "@jupyter-widgets/controls",
            "layout": "IPY_MODEL_6feb10aeb43147e6aba028d065947ae8"
          },
          "model_module_version": "1.5.0"
        },
        "40bf955ba0284e84b198da6be8654219": {
          "model_module": "@jupyter-widgets/controls",
          "model_name": "ProgressStyleModel",
          "state": {
            "_view_name": "StyleView",
            "_model_name": "ProgressStyleModel",
            "description_width": "initial",
            "_view_module": "@jupyter-widgets/base",
            "_model_module_version": "1.5.0",
            "_view_count": null,
            "_view_module_version": "1.2.0",
            "bar_color": null,
            "_model_module": "@jupyter-widgets/controls"
          },
          "model_module_version": "1.5.0"
        },
        "fe20a8dae6e84628b5076d02183090f5": {
          "model_module": "@jupyter-widgets/base",
          "model_name": "LayoutModel",
          "state": {
            "_view_name": "LayoutView",
            "grid_template_rows": null,
            "right": null,
            "justify_content": null,
            "_view_module": "@jupyter-widgets/base",
            "overflow": null,
            "_model_module_version": "1.2.0",
            "_view_count": null,
            "flex_flow": null,
            "width": null,
            "min_width": null,
            "border": null,
            "align_items": null,
            "bottom": null,
            "_model_module": "@jupyter-widgets/base",
            "top": null,
            "grid_column": null,
            "overflow_y": null,
            "overflow_x": null,
            "grid_auto_flow": null,
            "grid_area": null,
            "grid_template_columns": null,
            "flex": null,
            "_model_name": "LayoutModel",
            "justify_items": null,
            "grid_row": null,
            "max_height": null,
            "align_content": null,
            "visibility": null,
            "align_self": null,
            "height": null,
            "min_height": null,
            "padding": null,
            "grid_auto_rows": null,
            "grid_gap": null,
            "max_width": null,
            "order": null,
            "_view_module_version": "1.2.0",
            "grid_template_areas": null,
            "object_position": null,
            "object_fit": null,
            "grid_auto_columns": null,
            "margin": null,
            "display": null,
            "left": null
          },
          "model_module_version": "1.2.0"
        },
        "93b3f9eae3cb4e3e859cf456e3547c6d": {
          "model_module": "@jupyter-widgets/controls",
          "model_name": "DescriptionStyleModel",
          "state": {
            "_view_name": "StyleView",
            "_model_name": "DescriptionStyleModel",
            "description_width": "",
            "_view_module": "@jupyter-widgets/base",
            "_model_module_version": "1.5.0",
            "_view_count": null,
            "_view_module_version": "1.2.0",
            "_model_module": "@jupyter-widgets/controls"
          },
          "model_module_version": "1.5.0"
        },
        "6feb10aeb43147e6aba028d065947ae8": {
          "model_module": "@jupyter-widgets/base",
          "model_name": "LayoutModel",
          "state": {
            "_view_name": "LayoutView",
            "grid_template_rows": null,
            "right": null,
            "justify_content": null,
            "_view_module": "@jupyter-widgets/base",
            "overflow": null,
            "_model_module_version": "1.2.0",
            "_view_count": null,
            "flex_flow": null,
            "width": null,
            "min_width": null,
            "border": null,
            "align_items": null,
            "bottom": null,
            "_model_module": "@jupyter-widgets/base",
            "top": null,
            "grid_column": null,
            "overflow_y": null,
            "overflow_x": null,
            "grid_auto_flow": null,
            "grid_area": null,
            "grid_template_columns": null,
            "flex": null,
            "_model_name": "LayoutModel",
            "justify_items": null,
            "grid_row": null,
            "max_height": null,
            "align_content": null,
            "visibility": null,
            "align_self": null,
            "height": null,
            "min_height": null,
            "padding": null,
            "grid_auto_rows": null,
            "grid_gap": null,
            "max_width": null,
            "order": null,
            "_view_module_version": "1.2.0",
            "grid_template_areas": null,
            "object_position": null,
            "object_fit": null,
            "grid_auto_columns": null,
            "margin": null,
            "display": null,
            "left": null
          },
          "model_module_version": "1.2.0"
        },
        "0989d41a4da24e9ebff377e02127642c": {
          "model_module": "@jupyter-widgets/controls",
          "model_name": "HBoxModel",
          "state": {
            "_view_name": "HBoxView",
            "_dom_classes": [],
            "_model_name": "HBoxModel",
            "_view_module": "@jupyter-widgets/controls",
            "_model_module_version": "1.5.0",
            "_view_count": null,
            "_view_module_version": "1.5.0",
            "box_style": "",
            "layout": "IPY_MODEL_42c6061ef7e44f179db5a6e3551c0f17",
            "_model_module": "@jupyter-widgets/controls",
            "children": [
              "IPY_MODEL_d295dd80550447d88da0f04ce36a22ff",
              "IPY_MODEL_04e7e6d291da49d5816dc98a2904e95c"
            ]
          },
          "model_module_version": "1.5.0"
        },
        "42c6061ef7e44f179db5a6e3551c0f17": {
          "model_module": "@jupyter-widgets/base",
          "model_name": "LayoutModel",
          "state": {
            "_view_name": "LayoutView",
            "grid_template_rows": null,
            "right": null,
            "justify_content": null,
            "_view_module": "@jupyter-widgets/base",
            "overflow": null,
            "_model_module_version": "1.2.0",
            "_view_count": null,
            "flex_flow": null,
            "width": null,
            "min_width": null,
            "border": null,
            "align_items": null,
            "bottom": null,
            "_model_module": "@jupyter-widgets/base",
            "top": null,
            "grid_column": null,
            "overflow_y": null,
            "overflow_x": null,
            "grid_auto_flow": null,
            "grid_area": null,
            "grid_template_columns": null,
            "flex": null,
            "_model_name": "LayoutModel",
            "justify_items": null,
            "grid_row": null,
            "max_height": null,
            "align_content": null,
            "visibility": null,
            "align_self": null,
            "height": null,
            "min_height": null,
            "padding": null,
            "grid_auto_rows": null,
            "grid_gap": null,
            "max_width": null,
            "order": null,
            "_view_module_version": "1.2.0",
            "grid_template_areas": null,
            "object_position": null,
            "object_fit": null,
            "grid_auto_columns": null,
            "margin": null,
            "display": null,
            "left": null
          },
          "model_module_version": "1.2.0"
        },
        "d295dd80550447d88da0f04ce36a22ff": {
          "model_module": "@jupyter-widgets/controls",
          "model_name": "FloatProgressModel",
          "state": {
            "_view_name": "ProgressView",
            "style": "IPY_MODEL_e7d8c3a4fecd40778e32966b29ea65a1",
            "_dom_classes": [],
            "description": "Iteration: 100%",
            "_model_name": "FloatProgressModel",
            "bar_style": "success",
            "max": 15228,
            "_view_module": "@jupyter-widgets/controls",
            "_model_module_version": "1.5.0",
            "value": 15228,
            "_view_count": null,
            "_view_module_version": "1.5.0",
            "orientation": "horizontal",
            "min": 0,
            "description_tooltip": null,
            "_model_module": "@jupyter-widgets/controls",
            "layout": "IPY_MODEL_016d7c8318f742c1943464b08232a510"
          },
          "model_module_version": "1.5.0"
        },
        "04e7e6d291da49d5816dc98a2904e95c": {
          "model_module": "@jupyter-widgets/controls",
          "model_name": "HTMLModel",
          "state": {
            "_view_name": "HTMLView",
            "style": "IPY_MODEL_8388e9da9da4492c98c19235ca5fc1b5",
            "_dom_classes": [],
            "description": "",
            "_model_name": "HTMLModel",
            "placeholder": "​",
            "_view_module": "@jupyter-widgets/controls",
            "_model_module_version": "1.5.0",
            "value": " 15228/15228 [2:46:46&lt;00:00,  1.52it/s]",
            "_view_count": null,
            "_view_module_version": "1.5.0",
            "description_tooltip": null,
            "_model_module": "@jupyter-widgets/controls",
            "layout": "IPY_MODEL_39c23c6a972b419eb2eeeebafeaedc22"
          },
          "model_module_version": "1.5.0"
        },
        "e7d8c3a4fecd40778e32966b29ea65a1": {
          "model_module": "@jupyter-widgets/controls",
          "model_name": "ProgressStyleModel",
          "state": {
            "_view_name": "StyleView",
            "_model_name": "ProgressStyleModel",
            "description_width": "initial",
            "_view_module": "@jupyter-widgets/base",
            "_model_module_version": "1.5.0",
            "_view_count": null,
            "_view_module_version": "1.2.0",
            "bar_color": null,
            "_model_module": "@jupyter-widgets/controls"
          },
          "model_module_version": "1.5.0"
        },
        "016d7c8318f742c1943464b08232a510": {
          "model_module": "@jupyter-widgets/base",
          "model_name": "LayoutModel",
          "state": {
            "_view_name": "LayoutView",
            "grid_template_rows": null,
            "right": null,
            "justify_content": null,
            "_view_module": "@jupyter-widgets/base",
            "overflow": null,
            "_model_module_version": "1.2.0",
            "_view_count": null,
            "flex_flow": null,
            "width": null,
            "min_width": null,
            "border": null,
            "align_items": null,
            "bottom": null,
            "_model_module": "@jupyter-widgets/base",
            "top": null,
            "grid_column": null,
            "overflow_y": null,
            "overflow_x": null,
            "grid_auto_flow": null,
            "grid_area": null,
            "grid_template_columns": null,
            "flex": null,
            "_model_name": "LayoutModel",
            "justify_items": null,
            "grid_row": null,
            "max_height": null,
            "align_content": null,
            "visibility": null,
            "align_self": null,
            "height": null,
            "min_height": null,
            "padding": null,
            "grid_auto_rows": null,
            "grid_gap": null,
            "max_width": null,
            "order": null,
            "_view_module_version": "1.2.0",
            "grid_template_areas": null,
            "object_position": null,
            "object_fit": null,
            "grid_auto_columns": null,
            "margin": null,
            "display": null,
            "left": null
          },
          "model_module_version": "1.2.0"
        },
        "8388e9da9da4492c98c19235ca5fc1b5": {
          "model_module": "@jupyter-widgets/controls",
          "model_name": "DescriptionStyleModel",
          "state": {
            "_view_name": "StyleView",
            "_model_name": "DescriptionStyleModel",
            "description_width": "",
            "_view_module": "@jupyter-widgets/base",
            "_model_module_version": "1.5.0",
            "_view_count": null,
            "_view_module_version": "1.2.0",
            "_model_module": "@jupyter-widgets/controls"
          },
          "model_module_version": "1.5.0"
        },
        "39c23c6a972b419eb2eeeebafeaedc22": {
          "model_module": "@jupyter-widgets/base",
          "model_name": "LayoutModel",
          "state": {
            "_view_name": "LayoutView",
            "grid_template_rows": null,
            "right": null,
            "justify_content": null,
            "_view_module": "@jupyter-widgets/base",
            "overflow": null,
            "_model_module_version": "1.2.0",
            "_view_count": null,
            "flex_flow": null,
            "width": null,
            "min_width": null,
            "border": null,
            "align_items": null,
            "bottom": null,
            "_model_module": "@jupyter-widgets/base",
            "top": null,
            "grid_column": null,
            "overflow_y": null,
            "overflow_x": null,
            "grid_auto_flow": null,
            "grid_area": null,
            "grid_template_columns": null,
            "flex": null,
            "_model_name": "LayoutModel",
            "justify_items": null,
            "grid_row": null,
            "max_height": null,
            "align_content": null,
            "visibility": null,
            "align_self": null,
            "height": null,
            "min_height": null,
            "padding": null,
            "grid_auto_rows": null,
            "grid_gap": null,
            "max_width": null,
            "order": null,
            "_view_module_version": "1.2.0",
            "grid_template_areas": null,
            "object_position": null,
            "object_fit": null,
            "grid_auto_columns": null,
            "margin": null,
            "display": null,
            "left": null
          },
          "model_module_version": "1.2.0"
        }
      }
    }
  },
  "cells": [
    {
      "cell_type": "markdown",
      "metadata": {
        "id": "view-in-github",
        "colab_type": "text"
      },
      "source": [
        "<a href=\"https://colab.research.google.com/github/arnaudmkonan/transformers/blob/main/akonan_address_NER.ipynb\" target=\"_parent\"><img src=\"https://colab.research.google.com/assets/colab-badge.svg\" alt=\"Open In Colab\"/></a>"
      ]
    },
    {
      "cell_type": "markdown",
      "metadata": {
        "id": "M1oqh0F6W3ad"
      },
      "source": [
        "# How to train a new language model from scratch using Transformers and Tokenizers\n",
        "\n",
        "### Notebook edition (link to blogpost [link](https://huggingface.co/blog/how-to-train)). Last update May 15, 2020\n",
        "\n",
        "\n",
        "Over the past few months, we made several improvements to our [`transformers`](https://github.com/huggingface/transformers) and [`tokenizers`](https://github.com/huggingface/tokenizers) libraries, with the goal of making it easier than ever to **train a new language model from scratch**.\n",
        "\n",
        "In this post we’ll demo how to train a “small” model (84 M parameters = 6 layers, 768 hidden size, 12 attention heads) – that’s the same number of layers & heads as DistilBERT – on **Esperanto**. We’ll then fine-tune the model on a downstream task of part-of-speech tagging.\n"
      ]
    },
    {
      "cell_type": "markdown",
      "metadata": {
        "id": "oK7PPVm2XBgr"
      },
      "source": [
        "## 1. Find a dataset\n",
        "\n",
        "First, let us find a corpus of text in Esperanto. Here we’ll use the Esperanto portion of the [OSCAR corpus](https://traces1.inria.fr/oscar/) from INRIA.\n",
        "OSCAR is a huge multilingual corpus obtained by language classification and filtering of [Common Crawl](https://commoncrawl.org/) dumps of the Web.\n",
        "\n",
        "<img src=\"https://huggingface.co/blog/assets/01_how-to-train/oscar.png\" style=\"margin: auto; display: block; width: 260px;\">\n",
        "\n",
        "The Esperanto portion of the dataset is only 299M, so we’ll concatenate with the Esperanto sub-corpus of the [Leipzig Corpora Collection](https://wortschatz.uni-leipzig.de/en/download), which is comprised of text from diverse sources like news, literature, and wikipedia.\n",
        "\n",
        "The final training corpus has a size of 3 GB, which is still small – for your model, you will get better results the more data you can get to pretrain on. \n",
        "\n"
      ]
    },
    {
      "cell_type": "code",
      "metadata": {
        "id": "HOk4iZ9YZvec",
        "colab": {
          "base_uri": "https://localhost:8080/"
        },
        "outputId": "b3870de5-e585-499f-c364-84941dcb09f6"
      },
      "source": [
        "# in this notebook we'll only get one of the files (the Oscar one) for the sake of simplicity and performance\n",
        "!wget -c https://cdn-datasets.huggingface.co/EsperBERTo/data/oscar.eo.txt\n",
        "\n",
        "\n",
        "# !wget -c https://adresse.data.gouv.fr/data/ban/adresses/latest/csv/adresses-france.csv.gz"
      ],
      "execution_count": 87,
      "outputs": [
        {
          "output_type": "stream",
          "name": "stdout",
          "text": [
            "--2022-09-26 06:05:54--  https://cdn-datasets.huggingface.co/EsperBERTo/data/oscar.eo.txt\n",
            "Resolving cdn-datasets.huggingface.co (cdn-datasets.huggingface.co)... 54.192.18.17, 54.192.18.43, 54.192.18.58, ...\n",
            "Connecting to cdn-datasets.huggingface.co (cdn-datasets.huggingface.co)|54.192.18.17|:443... connected.\n",
            "HTTP request sent, awaiting response... 200 OK\n",
            "Length: 312733741 (298M) [text/plain]\n",
            "Saving to: ‘oscar.eo.txt’\n",
            "\n",
            "oscar.eo.txt        100%[===================>] 298.25M  19.7MB/s    in 17s     \n",
            "\n",
            "2022-09-26 06:06:12 (17.6 MB/s) - ‘oscar.eo.txt’ saved [312733741/312733741]\n",
            "\n"
          ]
        }
      ]
    },
    {
      "cell_type": "code",
      "source": [
        "%%bash\n",
        "\n",
        "wget https://nationaladdressdata.s3.amazonaws.com/NAD_r11_TXT.zip -O temp.zip\n",
        "unzip temp.zip\n",
        "rm temp.zip"
      ],
      "metadata": {
        "colab": {
          "base_uri": "https://localhost:8080/"
        },
        "id": "PQo_5W8hOvdf",
        "outputId": "191737b8-8ca8-41d1-9096-77a499d1e0e4"
      },
      "execution_count": 2,
      "outputs": [
        {
          "output_type": "stream",
          "name": "stdout",
          "text": [
            "Archive:  temp.zip\n",
            "   creating: TXT/\n",
            "   creating: TXT/info/\n",
            " extracting: TXT/info/arc.dir        \n",
            "  inflating: TXT/NAD_r11.txt         \n",
            "  inflating: TXT/NAD_r11.txt.xml     \n",
            "  inflating: TXT/NationalAddressDatabaseMetadata_v11.0.xml  \n",
            "  inflating: TXT/schema.ini          \n"
          ]
        },
        {
          "output_type": "stream",
          "name": "stderr",
          "text": [
            "IOPub data rate exceeded.\n",
            "The notebook server will temporarily stop sending output\n",
            "to the client in order to avoid crashing it.\n",
            "To change this limit, set the config variable\n",
            "`--NotebookApp.iopub_data_rate_limit`.\n",
            "\n",
            "Current values:\n",
            "NotebookApp.iopub_data_rate_limit=1000000.0 (bytes/sec)\n",
            "NotebookApp.rate_limit_window=3.0 (secs)\n",
            "\n"
          ]
        }
      ]
    },
    {
      "cell_type": "code",
      "source": [
        "%%bash\n",
        "\n",
        "\n",
        "head -n 2 /content/TXT/NAD_r11.txt"
      ],
      "metadata": {
        "colab": {
          "base_uri": "https://localhost:8080/"
        },
        "id": "mYAYtjGbRNPP",
        "outputId": "9582350b-6022-400b-9894-6412617092b1"
      },
      "execution_count": 3,
      "outputs": [
        {
          "output_type": "stream",
          "name": "stdout",
          "text": [
            "OID,State,County,Inc_Muni,Uninc_Comm,Nbrhd_Comm,Post_Comm,Zip_Code,Plus_4,Bulk_Zip,Bulk_Plus4,StN_PreMod,StN_PreDir,StN_PreTyp,StN_PreSep,StreetName,StN_PosTyp,StN_PosDir,StN_PosMod,AddNum_Pre,Add_Number,AddNum_Suf,LandmkPart,LandmkName,Building,Floor,Unit,Room,Addtl_Loc,Milepost,Longitude,Latitude,NatGrid_Coord,GUID,Addr_Type,Placement,Source,AddAuth,UniqWithin,LastUpdate,Effective,Expired\r\n",
            "-1,CO,Adams,BRIGHTON,,,,80601,,,,,South,,,Cabbage,Avenue,,,,282,,,,,,,,,,-104.821935861388994,39.982623567676498,13SEE1520325843,,Unknown,Unknown,Colorado OIT GIS,,,7/1/2021 0:00:00,,\r\n"
          ]
        }
      ]
    },
    {
      "cell_type": "code",
      "source": [
        "%%bash\n",
        "\n",
        "head -n 2 /content/oscar.eo.txt"
      ],
      "metadata": {
        "colab": {
          "base_uri": "https://localhost:8080/"
        },
        "id": "2uTIjpXGaI2x",
        "outputId": "6fce78db-1cdf-494a-b8bb-b2613b20dfee"
      },
      "execution_count": 88,
      "outputs": [
        {
          "output_type": "stream",
          "name": "stdout",
          "text": [
            "Ĉu ... preĝi | mediti | ricevi instigojn || kanti | muziki || informiĝi | legi | studi || prepari Diservon\n",
            "Temas pri kolekto de kristanaj kantoj, eldonita de Adolf Burkhardt inter 1974 kaj 1990 en dek kajeretoj. Ili estas reeldonitaj inter 1995 kaj 1998 de Bernhard Eichkorn en tri kajeroj, kies tria estas pliampleksigita per Dek Novaj Kantoj kaj suplemento, same de Adolf Burkhardt.\n"
          ]
        }
      ]
    },
    {
      "cell_type": "code",
      "source": [
        "import pandas as pd\n",
        "\n",
        "# df_ban = pd.read_csv('/content/adresses-france.csv.gz', sep=';') \n",
        "# df_ban.head(12)"
      ],
      "metadata": {
        "id": "uPj1NvfL5Utn"
      },
      "execution_count": 4,
      "outputs": []
    },
    {
      "cell_type": "code",
      "source": [
        "import pandas as pd\n",
        "pd.options.display.max_columns = 50\n",
        "# pd.options.display.max_rows = 50"
      ],
      "metadata": {
        "id": "9aVtjCfGT65t"
      },
      "execution_count": 5,
      "outputs": []
    },
    {
      "cell_type": "code",
      "source": [
        "import pandas as pd\n",
        "df_nad = pd.read_csv(\"/content/TXT/NAD_r11.txt\", \n",
        "                     sep=',', \n",
        "                    #  low_memory=False, \n",
        "                     nrows=1_000_000\n",
        "                     )\n",
        "df_nad.head()"
      ],
      "metadata": {
        "colab": {
          "base_uri": "https://localhost:8080/",
          "height": 422
        },
        "id": "o4ueMzkWMAaj",
        "outputId": "bde2c946-1d01-4db5-996e-15f5518e6588"
      },
      "execution_count": 3,
      "outputs": [
        {
          "output_type": "stream",
          "name": "stderr",
          "text": [
            "/usr/local/lib/python3.7/dist-packages/IPython/core/interactiveshell.py:3326: DtypeWarning: Columns (13,17,21,24,26) have mixed types.Specify dtype option on import or set low_memory=False.\n",
            "  exec(code_obj, self.user_global_ns, self.user_ns)\n"
          ]
        },
        {
          "output_type": "execute_result",
          "data": {
            "text/plain": [
              "   OID State County  Inc_Muni  Uninc_Comm  Nbrhd_Comm  Post_Comm  Zip_Code  \\\n",
              "0   -1    CO  Adams  BRIGHTON         NaN         NaN        NaN   80601.0   \n",
              "1   -1    CO  Adams  BRIGHTON         NaN         NaN        NaN   80601.0   \n",
              "2   -1    CO  Adams       NaN         NaN         NaN        NaN   80103.0   \n",
              "3   -1    CO  Adams       NaN         NaN         NaN        NaN   80105.0   \n",
              "4   -1    CO  Adams       NaN         NaN         NaN        NaN   80103.0   \n",
              "\n",
              "   Plus_4  Bulk_Zip  ...    NatGrid_Coord  GUID Addr_Type Placement  \\\n",
              "0     NaN       NaN  ...  13SEE1520325843   NaN   Unknown   Unknown   \n",
              "1     NaN       NaN  ...  13SEE1528726184   NaN   Unknown   Unknown   \n",
              "2     NaN       NaN  ...  13SEE6552801229   NaN   Unknown   Unknown   \n",
              "3     NaN       NaN  ...  13SEE8440901177   NaN   Unknown   Unknown   \n",
              "4     NaN       NaN  ...  13SEE6613807911   NaN   Unknown   Unknown   \n",
              "\n",
              "             Source AddAuth UniqWithin        LastUpdate  Effective  Expired  \n",
              "0  Colorado OIT GIS     NaN        NaN  7/1/2021 0:00:00        NaN      NaN  \n",
              "1  Colorado OIT GIS     NaN        NaN  7/1/2021 0:00:00        NaN      NaN  \n",
              "2  Colorado OIT GIS     NaN        NaN  7/1/2021 0:00:00        NaN      NaN  \n",
              "3  Colorado OIT GIS     NaN        NaN  7/1/2021 0:00:00        NaN      NaN  \n",
              "4  Colorado OIT GIS     NaN        NaN  7/1/2021 0:00:00        NaN      NaN  \n",
              "\n",
              "[5 rows x 42 columns]"
            ],
            "text/html": [
              "\n",
              "  <div id=\"df-53e83c62-1e04-44d9-8f4f-ef02031c1cfe\">\n",
              "    <div class=\"colab-df-container\">\n",
              "      <div>\n",
              "<style scoped>\n",
              "    .dataframe tbody tr th:only-of-type {\n",
              "        vertical-align: middle;\n",
              "    }\n",
              "\n",
              "    .dataframe tbody tr th {\n",
              "        vertical-align: top;\n",
              "    }\n",
              "\n",
              "    .dataframe thead th {\n",
              "        text-align: right;\n",
              "    }\n",
              "</style>\n",
              "<table border=\"1\" class=\"dataframe\">\n",
              "  <thead>\n",
              "    <tr style=\"text-align: right;\">\n",
              "      <th></th>\n",
              "      <th>OID</th>\n",
              "      <th>State</th>\n",
              "      <th>County</th>\n",
              "      <th>Inc_Muni</th>\n",
              "      <th>Uninc_Comm</th>\n",
              "      <th>Nbrhd_Comm</th>\n",
              "      <th>Post_Comm</th>\n",
              "      <th>Zip_Code</th>\n",
              "      <th>Plus_4</th>\n",
              "      <th>Bulk_Zip</th>\n",
              "      <th>...</th>\n",
              "      <th>NatGrid_Coord</th>\n",
              "      <th>GUID</th>\n",
              "      <th>Addr_Type</th>\n",
              "      <th>Placement</th>\n",
              "      <th>Source</th>\n",
              "      <th>AddAuth</th>\n",
              "      <th>UniqWithin</th>\n",
              "      <th>LastUpdate</th>\n",
              "      <th>Effective</th>\n",
              "      <th>Expired</th>\n",
              "    </tr>\n",
              "  </thead>\n",
              "  <tbody>\n",
              "    <tr>\n",
              "      <th>0</th>\n",
              "      <td>-1</td>\n",
              "      <td>CO</td>\n",
              "      <td>Adams</td>\n",
              "      <td>BRIGHTON</td>\n",
              "      <td>NaN</td>\n",
              "      <td>NaN</td>\n",
              "      <td>NaN</td>\n",
              "      <td>80601.0</td>\n",
              "      <td>NaN</td>\n",
              "      <td>NaN</td>\n",
              "      <td>...</td>\n",
              "      <td>13SEE1520325843</td>\n",
              "      <td>NaN</td>\n",
              "      <td>Unknown</td>\n",
              "      <td>Unknown</td>\n",
              "      <td>Colorado OIT GIS</td>\n",
              "      <td>NaN</td>\n",
              "      <td>NaN</td>\n",
              "      <td>7/1/2021 0:00:00</td>\n",
              "      <td>NaN</td>\n",
              "      <td>NaN</td>\n",
              "    </tr>\n",
              "    <tr>\n",
              "      <th>1</th>\n",
              "      <td>-1</td>\n",
              "      <td>CO</td>\n",
              "      <td>Adams</td>\n",
              "      <td>BRIGHTON</td>\n",
              "      <td>NaN</td>\n",
              "      <td>NaN</td>\n",
              "      <td>NaN</td>\n",
              "      <td>80601.0</td>\n",
              "      <td>NaN</td>\n",
              "      <td>NaN</td>\n",
              "      <td>...</td>\n",
              "      <td>13SEE1528726184</td>\n",
              "      <td>NaN</td>\n",
              "      <td>Unknown</td>\n",
              "      <td>Unknown</td>\n",
              "      <td>Colorado OIT GIS</td>\n",
              "      <td>NaN</td>\n",
              "      <td>NaN</td>\n",
              "      <td>7/1/2021 0:00:00</td>\n",
              "      <td>NaN</td>\n",
              "      <td>NaN</td>\n",
              "    </tr>\n",
              "    <tr>\n",
              "      <th>2</th>\n",
              "      <td>-1</td>\n",
              "      <td>CO</td>\n",
              "      <td>Adams</td>\n",
              "      <td>NaN</td>\n",
              "      <td>NaN</td>\n",
              "      <td>NaN</td>\n",
              "      <td>NaN</td>\n",
              "      <td>80103.0</td>\n",
              "      <td>NaN</td>\n",
              "      <td>NaN</td>\n",
              "      <td>...</td>\n",
              "      <td>13SEE6552801229</td>\n",
              "      <td>NaN</td>\n",
              "      <td>Unknown</td>\n",
              "      <td>Unknown</td>\n",
              "      <td>Colorado OIT GIS</td>\n",
              "      <td>NaN</td>\n",
              "      <td>NaN</td>\n",
              "      <td>7/1/2021 0:00:00</td>\n",
              "      <td>NaN</td>\n",
              "      <td>NaN</td>\n",
              "    </tr>\n",
              "    <tr>\n",
              "      <th>3</th>\n",
              "      <td>-1</td>\n",
              "      <td>CO</td>\n",
              "      <td>Adams</td>\n",
              "      <td>NaN</td>\n",
              "      <td>NaN</td>\n",
              "      <td>NaN</td>\n",
              "      <td>NaN</td>\n",
              "      <td>80105.0</td>\n",
              "      <td>NaN</td>\n",
              "      <td>NaN</td>\n",
              "      <td>...</td>\n",
              "      <td>13SEE8440901177</td>\n",
              "      <td>NaN</td>\n",
              "      <td>Unknown</td>\n",
              "      <td>Unknown</td>\n",
              "      <td>Colorado OIT GIS</td>\n",
              "      <td>NaN</td>\n",
              "      <td>NaN</td>\n",
              "      <td>7/1/2021 0:00:00</td>\n",
              "      <td>NaN</td>\n",
              "      <td>NaN</td>\n",
              "    </tr>\n",
              "    <tr>\n",
              "      <th>4</th>\n",
              "      <td>-1</td>\n",
              "      <td>CO</td>\n",
              "      <td>Adams</td>\n",
              "      <td>NaN</td>\n",
              "      <td>NaN</td>\n",
              "      <td>NaN</td>\n",
              "      <td>NaN</td>\n",
              "      <td>80103.0</td>\n",
              "      <td>NaN</td>\n",
              "      <td>NaN</td>\n",
              "      <td>...</td>\n",
              "      <td>13SEE6613807911</td>\n",
              "      <td>NaN</td>\n",
              "      <td>Unknown</td>\n",
              "      <td>Unknown</td>\n",
              "      <td>Colorado OIT GIS</td>\n",
              "      <td>NaN</td>\n",
              "      <td>NaN</td>\n",
              "      <td>7/1/2021 0:00:00</td>\n",
              "      <td>NaN</td>\n",
              "      <td>NaN</td>\n",
              "    </tr>\n",
              "  </tbody>\n",
              "</table>\n",
              "<p>5 rows × 42 columns</p>\n",
              "</div>\n",
              "      <button class=\"colab-df-convert\" onclick=\"convertToInteractive('df-53e83c62-1e04-44d9-8f4f-ef02031c1cfe')\"\n",
              "              title=\"Convert this dataframe to an interactive table.\"\n",
              "              style=\"display:none;\">\n",
              "        \n",
              "  <svg xmlns=\"http://www.w3.org/2000/svg\" height=\"24px\"viewBox=\"0 0 24 24\"\n",
              "       width=\"24px\">\n",
              "    <path d=\"M0 0h24v24H0V0z\" fill=\"none\"/>\n",
              "    <path d=\"M18.56 5.44l.94 2.06.94-2.06 2.06-.94-2.06-.94-.94-2.06-.94 2.06-2.06.94zm-11 1L8.5 8.5l.94-2.06 2.06-.94-2.06-.94L8.5 2.5l-.94 2.06-2.06.94zm10 10l.94 2.06.94-2.06 2.06-.94-2.06-.94-.94-2.06-.94 2.06-2.06.94z\"/><path d=\"M17.41 7.96l-1.37-1.37c-.4-.4-.92-.59-1.43-.59-.52 0-1.04.2-1.43.59L10.3 9.45l-7.72 7.72c-.78.78-.78 2.05 0 2.83L4 21.41c.39.39.9.59 1.41.59.51 0 1.02-.2 1.41-.59l7.78-7.78 2.81-2.81c.8-.78.8-2.07 0-2.86zM5.41 20L4 18.59l7.72-7.72 1.47 1.35L5.41 20z\"/>\n",
              "  </svg>\n",
              "      </button>\n",
              "      \n",
              "  <style>\n",
              "    .colab-df-container {\n",
              "      display:flex;\n",
              "      flex-wrap:wrap;\n",
              "      gap: 12px;\n",
              "    }\n",
              "\n",
              "    .colab-df-convert {\n",
              "      background-color: #E8F0FE;\n",
              "      border: none;\n",
              "      border-radius: 50%;\n",
              "      cursor: pointer;\n",
              "      display: none;\n",
              "      fill: #1967D2;\n",
              "      height: 32px;\n",
              "      padding: 0 0 0 0;\n",
              "      width: 32px;\n",
              "    }\n",
              "\n",
              "    .colab-df-convert:hover {\n",
              "      background-color: #E2EBFA;\n",
              "      box-shadow: 0px 1px 2px rgba(60, 64, 67, 0.3), 0px 1px 3px 1px rgba(60, 64, 67, 0.15);\n",
              "      fill: #174EA6;\n",
              "    }\n",
              "\n",
              "    [theme=dark] .colab-df-convert {\n",
              "      background-color: #3B4455;\n",
              "      fill: #D2E3FC;\n",
              "    }\n",
              "\n",
              "    [theme=dark] .colab-df-convert:hover {\n",
              "      background-color: #434B5C;\n",
              "      box-shadow: 0px 1px 3px 1px rgba(0, 0, 0, 0.15);\n",
              "      filter: drop-shadow(0px 1px 2px rgba(0, 0, 0, 0.3));\n",
              "      fill: #FFFFFF;\n",
              "    }\n",
              "  </style>\n",
              "\n",
              "      <script>\n",
              "        const buttonEl =\n",
              "          document.querySelector('#df-53e83c62-1e04-44d9-8f4f-ef02031c1cfe button.colab-df-convert');\n",
              "        buttonEl.style.display =\n",
              "          google.colab.kernel.accessAllowed ? 'block' : 'none';\n",
              "\n",
              "        async function convertToInteractive(key) {\n",
              "          const element = document.querySelector('#df-53e83c62-1e04-44d9-8f4f-ef02031c1cfe');\n",
              "          const dataTable =\n",
              "            await google.colab.kernel.invokeFunction('convertToInteractive',\n",
              "                                                     [key], {});\n",
              "          if (!dataTable) return;\n",
              "\n",
              "          const docLinkHtml = 'Like what you see? Visit the ' +\n",
              "            '<a target=\"_blank\" href=https://colab.research.google.com/notebooks/data_table.ipynb>data table notebook</a>'\n",
              "            + ' to learn more about interactive tables.';\n",
              "          element.innerHTML = '';\n",
              "          dataTable['output_type'] = 'display_data';\n",
              "          await google.colab.output.renderOutput(dataTable, element);\n",
              "          const docLink = document.createElement('div');\n",
              "          docLink.innerHTML = docLinkHtml;\n",
              "          element.appendChild(docLink);\n",
              "        }\n",
              "      </script>\n",
              "    </div>\n",
              "  </div>\n",
              "  "
            ]
          },
          "metadata": {},
          "execution_count": 3
        }
      ]
    },
    {
      "cell_type": "code",
      "source": [
        "df_nad.shape"
      ],
      "metadata": {
        "colab": {
          "base_uri": "https://localhost:8080/"
        },
        "id": "eQcYKLY8ZIzs",
        "outputId": "1a3bc25e-7d8e-43fb-83e5-c3a4d17d1cdb"
      },
      "execution_count": 4,
      "outputs": [
        {
          "output_type": "execute_result",
          "data": {
            "text/plain": [
              "(1000000, 42)"
            ]
          },
          "metadata": {},
          "execution_count": 4
        }
      ]
    },
    {
      "cell_type": "code",
      "source": [
        "headers_needed = ['State', 'County', 'Inc_Muni', 'Zip_Code', 'StN_PreDir', 'StreetName', 'StN_PosTyp', 'Add_Number', 'Building', 'Unit', 'NatGrid_Coord']"
      ],
      "metadata": {
        "id": "QI2fl2Z3UdCL"
      },
      "execution_count": 5,
      "outputs": []
    },
    {
      "cell_type": "code",
      "source": [
        "df_nad[headers_needed].isnull().sum()"
      ],
      "metadata": {
        "colab": {
          "base_uri": "https://localhost:8080/"
        },
        "id": "4K7We0CQTqvI",
        "outputId": "d9a1ae65-eb28-4e97-f451-3430cbe593ee"
      },
      "execution_count": 6,
      "outputs": [
        {
          "output_type": "execute_result",
          "data": {
            "text/plain": [
              "State                 0\n",
              "County                0\n",
              "Inc_Muni          46023\n",
              "Zip_Code            192\n",
              "StN_PreDir       369976\n",
              "StreetName            2\n",
              "StN_PosTyp        17931\n",
              "Add_Number            0\n",
              "Building         997947\n",
              "Unit             723626\n",
              "NatGrid_Coord         0\n",
              "dtype: int64"
            ]
          },
          "metadata": {},
          "execution_count": 6
        }
      ]
    },
    {
      "cell_type": "code",
      "source": [
        "df_nad[headers_needed].head(25)"
      ],
      "metadata": {
        "colab": {
          "base_uri": "https://localhost:8080/",
          "height": 1000
        },
        "id": "BuvDU0zlThzc",
        "outputId": "73b7cc7f-3b5f-4582-dad3-66bea92a92e0"
      },
      "execution_count": 7,
      "outputs": [
        {
          "output_type": "execute_result",
          "data": {
            "text/plain": [
              "   State County  Inc_Muni  Zip_Code StN_PreDir      StreetName StN_PosTyp  \\\n",
              "0     CO  Adams  BRIGHTON   80601.0      South         Cabbage     Avenue   \n",
              "1     CO  Adams  BRIGHTON   80601.0        NaN         CABBAGE     Street   \n",
              "2     CO  Adams       NaN   80103.0       East            26TH      Court   \n",
              "3     CO  Adams       NaN   80105.0       East            26TH     Avenue   \n",
              "4     CO  Adams       NaN   80103.0        NaN   PEERLESS MINE       Road   \n",
              "5     CO  Adams       NaN   80103.0        NaN         BEHRENS       Road   \n",
              "6     CO  Adams       NaN   80103.0        NaN         BEHRENS       Road   \n",
              "7     CO  Adams       NaN   80103.0        NaN   CALHOUN BYERS       Road   \n",
              "8     CO  Adams       NaN   80103.0        NaN         BEHRENS       Road   \n",
              "9     CO  Adams       NaN   80103.0        NaN         BEHRENS       Road   \n",
              "10    CO  Adams       NaN   80103.0        NaN   RECTOR LEADER       Road   \n",
              "11    CO  Adams       NaN   80103.0        NaN  BRADBURY-KREBS       Road   \n",
              "12    CO  Adams       NaN   80103.0        NaN  BRADBURY-KREBS       Road   \n",
              "13    CO  Adams       NaN   80103.0        NaN  BRADBURY-KREBS       Road   \n",
              "14    CO  Adams       NaN   80103.0        NaN  BRADBURY-KREBS       Road   \n",
              "15    CO  Adams       NaN   80103.0        NaN  BRADBURY-KREBS       Road   \n",
              "16    CO  Adams       NaN   80103.0        NaN  BRADBURY-KREBS       Road   \n",
              "17    CO  Adams       NaN   80103.0        NaN  BRADBURY-KREBS       Road   \n",
              "18    CO  Adams       NaN   80103.0        NaN  BRADBURY-KREBS       Road   \n",
              "19    CO  Adams       NaN   80103.0        NaN  BRADBURY-KREBS       Road   \n",
              "20    CO  Adams       NaN   80103.0        NaN  BRADBURY-KREBS       Road   \n",
              "21    CO  Adams       NaN   80103.0        NaN  BRADBURY-KREBS       Road   \n",
              "22    CO  Adams       NaN   80103.0        NaN  BRADBURY-KREBS       Road   \n",
              "23    CO  Adams       NaN   80136.0        NaN  BRADBURY KREBS       Road   \n",
              "24    CO  Adams       NaN   80103.0       East            72ND     Avenue   \n",
              "\n",
              "    Add_Number Building Unit    NatGrid_Coord  \n",
              "0          282      NaN  NaN  13SEE1520325843  \n",
              "1           60      NaN  NaN  13SEE1528726184  \n",
              "2        64400      NaN  NaN  13SEE6552801229  \n",
              "3        83107      NaN  NaN  13SEE8440901177  \n",
              "4         6571      NaN  NaN  13SEE6613807911  \n",
              "5         4680      NaN  NaN  13SEE7274003896  \n",
              "6         5505      NaN  NaN  13SEE7252705367  \n",
              "7         6570      NaN  NaN  13SEE6954607869  \n",
              "8         4500      NaN  NaN  13SEE7270703716  \n",
              "9         5440      NaN  NaN  13SEE7281205123  \n",
              "10        6001      NaN  NaN  13SEE7900506263  \n",
              "11        2020      NaN  NaN  13SED6463999980  \n",
              "12        1944      NaN  NaN  13SED6459699883  \n",
              "13        2210      NaN  NaN  13SEE6463000343  \n",
              "14        2234      NaN  NaN  13SEE6461200302  \n",
              "15        2302      NaN  NaN  13SEE6466400328  \n",
              "16        2324      NaN  NaN  13SEE6470900352  \n",
              "17        2346      NaN  NaN  13SEE6469800329  \n",
              "18        2256      NaN  NaN  13SEE6465500290  \n",
              "19        2368      NaN  NaN  13SEE6472200320  \n",
              "20        2278      NaN  NaN  13SEE6468500286  \n",
              "21        2142      NaN  NaN  13SEE6462500250  \n",
              "22        1988      NaN  NaN  13SED6459799930  \n",
              "23        2355      NaN  NaN  13SEE6434300223  \n",
              "24       67370      NaN  NaN  13SEE6840708414  "
            ],
            "text/html": [
              "\n",
              "  <div id=\"df-83ba2d32-a063-4b69-a2c6-e0f2b18209f1\">\n",
              "    <div class=\"colab-df-container\">\n",
              "      <div>\n",
              "<style scoped>\n",
              "    .dataframe tbody tr th:only-of-type {\n",
              "        vertical-align: middle;\n",
              "    }\n",
              "\n",
              "    .dataframe tbody tr th {\n",
              "        vertical-align: top;\n",
              "    }\n",
              "\n",
              "    .dataframe thead th {\n",
              "        text-align: right;\n",
              "    }\n",
              "</style>\n",
              "<table border=\"1\" class=\"dataframe\">\n",
              "  <thead>\n",
              "    <tr style=\"text-align: right;\">\n",
              "      <th></th>\n",
              "      <th>State</th>\n",
              "      <th>County</th>\n",
              "      <th>Inc_Muni</th>\n",
              "      <th>Zip_Code</th>\n",
              "      <th>StN_PreDir</th>\n",
              "      <th>StreetName</th>\n",
              "      <th>StN_PosTyp</th>\n",
              "      <th>Add_Number</th>\n",
              "      <th>Building</th>\n",
              "      <th>Unit</th>\n",
              "      <th>NatGrid_Coord</th>\n",
              "    </tr>\n",
              "  </thead>\n",
              "  <tbody>\n",
              "    <tr>\n",
              "      <th>0</th>\n",
              "      <td>CO</td>\n",
              "      <td>Adams</td>\n",
              "      <td>BRIGHTON</td>\n",
              "      <td>80601.0</td>\n",
              "      <td>South</td>\n",
              "      <td>Cabbage</td>\n",
              "      <td>Avenue</td>\n",
              "      <td>282</td>\n",
              "      <td>NaN</td>\n",
              "      <td>NaN</td>\n",
              "      <td>13SEE1520325843</td>\n",
              "    </tr>\n",
              "    <tr>\n",
              "      <th>1</th>\n",
              "      <td>CO</td>\n",
              "      <td>Adams</td>\n",
              "      <td>BRIGHTON</td>\n",
              "      <td>80601.0</td>\n",
              "      <td>NaN</td>\n",
              "      <td>CABBAGE</td>\n",
              "      <td>Street</td>\n",
              "      <td>60</td>\n",
              "      <td>NaN</td>\n",
              "      <td>NaN</td>\n",
              "      <td>13SEE1528726184</td>\n",
              "    </tr>\n",
              "    <tr>\n",
              "      <th>2</th>\n",
              "      <td>CO</td>\n",
              "      <td>Adams</td>\n",
              "      <td>NaN</td>\n",
              "      <td>80103.0</td>\n",
              "      <td>East</td>\n",
              "      <td>26TH</td>\n",
              "      <td>Court</td>\n",
              "      <td>64400</td>\n",
              "      <td>NaN</td>\n",
              "      <td>NaN</td>\n",
              "      <td>13SEE6552801229</td>\n",
              "    </tr>\n",
              "    <tr>\n",
              "      <th>3</th>\n",
              "      <td>CO</td>\n",
              "      <td>Adams</td>\n",
              "      <td>NaN</td>\n",
              "      <td>80105.0</td>\n",
              "      <td>East</td>\n",
              "      <td>26TH</td>\n",
              "      <td>Avenue</td>\n",
              "      <td>83107</td>\n",
              "      <td>NaN</td>\n",
              "      <td>NaN</td>\n",
              "      <td>13SEE8440901177</td>\n",
              "    </tr>\n",
              "    <tr>\n",
              "      <th>4</th>\n",
              "      <td>CO</td>\n",
              "      <td>Adams</td>\n",
              "      <td>NaN</td>\n",
              "      <td>80103.0</td>\n",
              "      <td>NaN</td>\n",
              "      <td>PEERLESS MINE</td>\n",
              "      <td>Road</td>\n",
              "      <td>6571</td>\n",
              "      <td>NaN</td>\n",
              "      <td>NaN</td>\n",
              "      <td>13SEE6613807911</td>\n",
              "    </tr>\n",
              "    <tr>\n",
              "      <th>5</th>\n",
              "      <td>CO</td>\n",
              "      <td>Adams</td>\n",
              "      <td>NaN</td>\n",
              "      <td>80103.0</td>\n",
              "      <td>NaN</td>\n",
              "      <td>BEHRENS</td>\n",
              "      <td>Road</td>\n",
              "      <td>4680</td>\n",
              "      <td>NaN</td>\n",
              "      <td>NaN</td>\n",
              "      <td>13SEE7274003896</td>\n",
              "    </tr>\n",
              "    <tr>\n",
              "      <th>6</th>\n",
              "      <td>CO</td>\n",
              "      <td>Adams</td>\n",
              "      <td>NaN</td>\n",
              "      <td>80103.0</td>\n",
              "      <td>NaN</td>\n",
              "      <td>BEHRENS</td>\n",
              "      <td>Road</td>\n",
              "      <td>5505</td>\n",
              "      <td>NaN</td>\n",
              "      <td>NaN</td>\n",
              "      <td>13SEE7252705367</td>\n",
              "    </tr>\n",
              "    <tr>\n",
              "      <th>7</th>\n",
              "      <td>CO</td>\n",
              "      <td>Adams</td>\n",
              "      <td>NaN</td>\n",
              "      <td>80103.0</td>\n",
              "      <td>NaN</td>\n",
              "      <td>CALHOUN BYERS</td>\n",
              "      <td>Road</td>\n",
              "      <td>6570</td>\n",
              "      <td>NaN</td>\n",
              "      <td>NaN</td>\n",
              "      <td>13SEE6954607869</td>\n",
              "    </tr>\n",
              "    <tr>\n",
              "      <th>8</th>\n",
              "      <td>CO</td>\n",
              "      <td>Adams</td>\n",
              "      <td>NaN</td>\n",
              "      <td>80103.0</td>\n",
              "      <td>NaN</td>\n",
              "      <td>BEHRENS</td>\n",
              "      <td>Road</td>\n",
              "      <td>4500</td>\n",
              "      <td>NaN</td>\n",
              "      <td>NaN</td>\n",
              "      <td>13SEE7270703716</td>\n",
              "    </tr>\n",
              "    <tr>\n",
              "      <th>9</th>\n",
              "      <td>CO</td>\n",
              "      <td>Adams</td>\n",
              "      <td>NaN</td>\n",
              "      <td>80103.0</td>\n",
              "      <td>NaN</td>\n",
              "      <td>BEHRENS</td>\n",
              "      <td>Road</td>\n",
              "      <td>5440</td>\n",
              "      <td>NaN</td>\n",
              "      <td>NaN</td>\n",
              "      <td>13SEE7281205123</td>\n",
              "    </tr>\n",
              "    <tr>\n",
              "      <th>10</th>\n",
              "      <td>CO</td>\n",
              "      <td>Adams</td>\n",
              "      <td>NaN</td>\n",
              "      <td>80103.0</td>\n",
              "      <td>NaN</td>\n",
              "      <td>RECTOR LEADER</td>\n",
              "      <td>Road</td>\n",
              "      <td>6001</td>\n",
              "      <td>NaN</td>\n",
              "      <td>NaN</td>\n",
              "      <td>13SEE7900506263</td>\n",
              "    </tr>\n",
              "    <tr>\n",
              "      <th>11</th>\n",
              "      <td>CO</td>\n",
              "      <td>Adams</td>\n",
              "      <td>NaN</td>\n",
              "      <td>80103.0</td>\n",
              "      <td>NaN</td>\n",
              "      <td>BRADBURY-KREBS</td>\n",
              "      <td>Road</td>\n",
              "      <td>2020</td>\n",
              "      <td>NaN</td>\n",
              "      <td>NaN</td>\n",
              "      <td>13SED6463999980</td>\n",
              "    </tr>\n",
              "    <tr>\n",
              "      <th>12</th>\n",
              "      <td>CO</td>\n",
              "      <td>Adams</td>\n",
              "      <td>NaN</td>\n",
              "      <td>80103.0</td>\n",
              "      <td>NaN</td>\n",
              "      <td>BRADBURY-KREBS</td>\n",
              "      <td>Road</td>\n",
              "      <td>1944</td>\n",
              "      <td>NaN</td>\n",
              "      <td>NaN</td>\n",
              "      <td>13SED6459699883</td>\n",
              "    </tr>\n",
              "    <tr>\n",
              "      <th>13</th>\n",
              "      <td>CO</td>\n",
              "      <td>Adams</td>\n",
              "      <td>NaN</td>\n",
              "      <td>80103.0</td>\n",
              "      <td>NaN</td>\n",
              "      <td>BRADBURY-KREBS</td>\n",
              "      <td>Road</td>\n",
              "      <td>2210</td>\n",
              "      <td>NaN</td>\n",
              "      <td>NaN</td>\n",
              "      <td>13SEE6463000343</td>\n",
              "    </tr>\n",
              "    <tr>\n",
              "      <th>14</th>\n",
              "      <td>CO</td>\n",
              "      <td>Adams</td>\n",
              "      <td>NaN</td>\n",
              "      <td>80103.0</td>\n",
              "      <td>NaN</td>\n",
              "      <td>BRADBURY-KREBS</td>\n",
              "      <td>Road</td>\n",
              "      <td>2234</td>\n",
              "      <td>NaN</td>\n",
              "      <td>NaN</td>\n",
              "      <td>13SEE6461200302</td>\n",
              "    </tr>\n",
              "    <tr>\n",
              "      <th>15</th>\n",
              "      <td>CO</td>\n",
              "      <td>Adams</td>\n",
              "      <td>NaN</td>\n",
              "      <td>80103.0</td>\n",
              "      <td>NaN</td>\n",
              "      <td>BRADBURY-KREBS</td>\n",
              "      <td>Road</td>\n",
              "      <td>2302</td>\n",
              "      <td>NaN</td>\n",
              "      <td>NaN</td>\n",
              "      <td>13SEE6466400328</td>\n",
              "    </tr>\n",
              "    <tr>\n",
              "      <th>16</th>\n",
              "      <td>CO</td>\n",
              "      <td>Adams</td>\n",
              "      <td>NaN</td>\n",
              "      <td>80103.0</td>\n",
              "      <td>NaN</td>\n",
              "      <td>BRADBURY-KREBS</td>\n",
              "      <td>Road</td>\n",
              "      <td>2324</td>\n",
              "      <td>NaN</td>\n",
              "      <td>NaN</td>\n",
              "      <td>13SEE6470900352</td>\n",
              "    </tr>\n",
              "    <tr>\n",
              "      <th>17</th>\n",
              "      <td>CO</td>\n",
              "      <td>Adams</td>\n",
              "      <td>NaN</td>\n",
              "      <td>80103.0</td>\n",
              "      <td>NaN</td>\n",
              "      <td>BRADBURY-KREBS</td>\n",
              "      <td>Road</td>\n",
              "      <td>2346</td>\n",
              "      <td>NaN</td>\n",
              "      <td>NaN</td>\n",
              "      <td>13SEE6469800329</td>\n",
              "    </tr>\n",
              "    <tr>\n",
              "      <th>18</th>\n",
              "      <td>CO</td>\n",
              "      <td>Adams</td>\n",
              "      <td>NaN</td>\n",
              "      <td>80103.0</td>\n",
              "      <td>NaN</td>\n",
              "      <td>BRADBURY-KREBS</td>\n",
              "      <td>Road</td>\n",
              "      <td>2256</td>\n",
              "      <td>NaN</td>\n",
              "      <td>NaN</td>\n",
              "      <td>13SEE6465500290</td>\n",
              "    </tr>\n",
              "    <tr>\n",
              "      <th>19</th>\n",
              "      <td>CO</td>\n",
              "      <td>Adams</td>\n",
              "      <td>NaN</td>\n",
              "      <td>80103.0</td>\n",
              "      <td>NaN</td>\n",
              "      <td>BRADBURY-KREBS</td>\n",
              "      <td>Road</td>\n",
              "      <td>2368</td>\n",
              "      <td>NaN</td>\n",
              "      <td>NaN</td>\n",
              "      <td>13SEE6472200320</td>\n",
              "    </tr>\n",
              "    <tr>\n",
              "      <th>20</th>\n",
              "      <td>CO</td>\n",
              "      <td>Adams</td>\n",
              "      <td>NaN</td>\n",
              "      <td>80103.0</td>\n",
              "      <td>NaN</td>\n",
              "      <td>BRADBURY-KREBS</td>\n",
              "      <td>Road</td>\n",
              "      <td>2278</td>\n",
              "      <td>NaN</td>\n",
              "      <td>NaN</td>\n",
              "      <td>13SEE6468500286</td>\n",
              "    </tr>\n",
              "    <tr>\n",
              "      <th>21</th>\n",
              "      <td>CO</td>\n",
              "      <td>Adams</td>\n",
              "      <td>NaN</td>\n",
              "      <td>80103.0</td>\n",
              "      <td>NaN</td>\n",
              "      <td>BRADBURY-KREBS</td>\n",
              "      <td>Road</td>\n",
              "      <td>2142</td>\n",
              "      <td>NaN</td>\n",
              "      <td>NaN</td>\n",
              "      <td>13SEE6462500250</td>\n",
              "    </tr>\n",
              "    <tr>\n",
              "      <th>22</th>\n",
              "      <td>CO</td>\n",
              "      <td>Adams</td>\n",
              "      <td>NaN</td>\n",
              "      <td>80103.0</td>\n",
              "      <td>NaN</td>\n",
              "      <td>BRADBURY-KREBS</td>\n",
              "      <td>Road</td>\n",
              "      <td>1988</td>\n",
              "      <td>NaN</td>\n",
              "      <td>NaN</td>\n",
              "      <td>13SED6459799930</td>\n",
              "    </tr>\n",
              "    <tr>\n",
              "      <th>23</th>\n",
              "      <td>CO</td>\n",
              "      <td>Adams</td>\n",
              "      <td>NaN</td>\n",
              "      <td>80136.0</td>\n",
              "      <td>NaN</td>\n",
              "      <td>BRADBURY KREBS</td>\n",
              "      <td>Road</td>\n",
              "      <td>2355</td>\n",
              "      <td>NaN</td>\n",
              "      <td>NaN</td>\n",
              "      <td>13SEE6434300223</td>\n",
              "    </tr>\n",
              "    <tr>\n",
              "      <th>24</th>\n",
              "      <td>CO</td>\n",
              "      <td>Adams</td>\n",
              "      <td>NaN</td>\n",
              "      <td>80103.0</td>\n",
              "      <td>East</td>\n",
              "      <td>72ND</td>\n",
              "      <td>Avenue</td>\n",
              "      <td>67370</td>\n",
              "      <td>NaN</td>\n",
              "      <td>NaN</td>\n",
              "      <td>13SEE6840708414</td>\n",
              "    </tr>\n",
              "  </tbody>\n",
              "</table>\n",
              "</div>\n",
              "      <button class=\"colab-df-convert\" onclick=\"convertToInteractive('df-83ba2d32-a063-4b69-a2c6-e0f2b18209f1')\"\n",
              "              title=\"Convert this dataframe to an interactive table.\"\n",
              "              style=\"display:none;\">\n",
              "        \n",
              "  <svg xmlns=\"http://www.w3.org/2000/svg\" height=\"24px\"viewBox=\"0 0 24 24\"\n",
              "       width=\"24px\">\n",
              "    <path d=\"M0 0h24v24H0V0z\" fill=\"none\"/>\n",
              "    <path d=\"M18.56 5.44l.94 2.06.94-2.06 2.06-.94-2.06-.94-.94-2.06-.94 2.06-2.06.94zm-11 1L8.5 8.5l.94-2.06 2.06-.94-2.06-.94L8.5 2.5l-.94 2.06-2.06.94zm10 10l.94 2.06.94-2.06 2.06-.94-2.06-.94-.94-2.06-.94 2.06-2.06.94z\"/><path d=\"M17.41 7.96l-1.37-1.37c-.4-.4-.92-.59-1.43-.59-.52 0-1.04.2-1.43.59L10.3 9.45l-7.72 7.72c-.78.78-.78 2.05 0 2.83L4 21.41c.39.39.9.59 1.41.59.51 0 1.02-.2 1.41-.59l7.78-7.78 2.81-2.81c.8-.78.8-2.07 0-2.86zM5.41 20L4 18.59l7.72-7.72 1.47 1.35L5.41 20z\"/>\n",
              "  </svg>\n",
              "      </button>\n",
              "      \n",
              "  <style>\n",
              "    .colab-df-container {\n",
              "      display:flex;\n",
              "      flex-wrap:wrap;\n",
              "      gap: 12px;\n",
              "    }\n",
              "\n",
              "    .colab-df-convert {\n",
              "      background-color: #E8F0FE;\n",
              "      border: none;\n",
              "      border-radius: 50%;\n",
              "      cursor: pointer;\n",
              "      display: none;\n",
              "      fill: #1967D2;\n",
              "      height: 32px;\n",
              "      padding: 0 0 0 0;\n",
              "      width: 32px;\n",
              "    }\n",
              "\n",
              "    .colab-df-convert:hover {\n",
              "      background-color: #E2EBFA;\n",
              "      box-shadow: 0px 1px 2px rgba(60, 64, 67, 0.3), 0px 1px 3px 1px rgba(60, 64, 67, 0.15);\n",
              "      fill: #174EA6;\n",
              "    }\n",
              "\n",
              "    [theme=dark] .colab-df-convert {\n",
              "      background-color: #3B4455;\n",
              "      fill: #D2E3FC;\n",
              "    }\n",
              "\n",
              "    [theme=dark] .colab-df-convert:hover {\n",
              "      background-color: #434B5C;\n",
              "      box-shadow: 0px 1px 3px 1px rgba(0, 0, 0, 0.15);\n",
              "      filter: drop-shadow(0px 1px 2px rgba(0, 0, 0, 0.3));\n",
              "      fill: #FFFFFF;\n",
              "    }\n",
              "  </style>\n",
              "\n",
              "      <script>\n",
              "        const buttonEl =\n",
              "          document.querySelector('#df-83ba2d32-a063-4b69-a2c6-e0f2b18209f1 button.colab-df-convert');\n",
              "        buttonEl.style.display =\n",
              "          google.colab.kernel.accessAllowed ? 'block' : 'none';\n",
              "\n",
              "        async function convertToInteractive(key) {\n",
              "          const element = document.querySelector('#df-83ba2d32-a063-4b69-a2c6-e0f2b18209f1');\n",
              "          const dataTable =\n",
              "            await google.colab.kernel.invokeFunction('convertToInteractive',\n",
              "                                                     [key], {});\n",
              "          if (!dataTable) return;\n",
              "\n",
              "          const docLinkHtml = 'Like what you see? Visit the ' +\n",
              "            '<a target=\"_blank\" href=https://colab.research.google.com/notebooks/data_table.ipynb>data table notebook</a>'\n",
              "            + ' to learn more about interactive tables.';\n",
              "          element.innerHTML = '';\n",
              "          dataTable['output_type'] = 'display_data';\n",
              "          await google.colab.output.renderOutput(dataTable, element);\n",
              "          const docLink = document.createElement('div');\n",
              "          docLink.innerHTML = docLinkHtml;\n",
              "          element.appendChild(docLink);\n",
              "        }\n",
              "      </script>\n",
              "    </div>\n",
              "  </div>\n",
              "  "
            ]
          },
          "metadata": {},
          "execution_count": 7
        }
      ]
    },
    {
      "cell_type": "code",
      "source": [
        "df_nad.info()"
      ],
      "metadata": {
        "colab": {
          "base_uri": "https://localhost:8080/"
        },
        "id": "oC0aMAlIjPtD",
        "outputId": "ac15ba16-c89a-4eac-a334-8389b4fa2f0b"
      },
      "execution_count": 8,
      "outputs": [
        {
          "output_type": "stream",
          "name": "stdout",
          "text": [
            "<class 'pandas.core.frame.DataFrame'>\n",
            "RangeIndex: 1000000 entries, 0 to 999999\n",
            "Data columns (total 42 columns):\n",
            " #   Column         Non-Null Count    Dtype  \n",
            "---  ------         --------------    -----  \n",
            " 0   OID            1000000 non-null  int64  \n",
            " 1   State          1000000 non-null  object \n",
            " 2   County         1000000 non-null  object \n",
            " 3   Inc_Muni       953977 non-null   object \n",
            " 4   Uninc_Comm     0 non-null        float64\n",
            " 5   Nbrhd_Comm     0 non-null        float64\n",
            " 6   Post_Comm      0 non-null        float64\n",
            " 7   Zip_Code       999808 non-null   float64\n",
            " 8   Plus_4         0 non-null        float64\n",
            " 9   Bulk_Zip       0 non-null        float64\n",
            " 10  Bulk_Plus4     0 non-null        float64\n",
            " 11  StN_PreMod     0 non-null        float64\n",
            " 12  StN_PreDir     630024 non-null   object \n",
            " 13  StN_PreTyp     5768 non-null     object \n",
            " 14  StN_PreSep     0 non-null        float64\n",
            " 15  StreetName     999998 non-null   object \n",
            " 16  StN_PosTyp     982069 non-null   object \n",
            " 17  StN_PosDir     13955 non-null    object \n",
            " 18  StN_PosMod     0 non-null        float64\n",
            " 19  AddNum_Pre     0 non-null        float64\n",
            " 20  Add_Number     1000000 non-null  int64  \n",
            " 21  AddNum_Suf     946 non-null      object \n",
            " 22  LandmkPart     0 non-null        float64\n",
            " 23  LandmkName     0 non-null        float64\n",
            " 24  Building       2053 non-null     object \n",
            " 25  Floor          0 non-null        float64\n",
            " 26  Unit           276374 non-null   object \n",
            " 27  Room           0 non-null        float64\n",
            " 28  Addtl_Loc      0 non-null        float64\n",
            " 29  Milepost       0 non-null        float64\n",
            " 30  Longitude      1000000 non-null  float64\n",
            " 31  Latitude       1000000 non-null  float64\n",
            " 32  NatGrid_Coord  1000000 non-null  object \n",
            " 33  GUID           0 non-null        float64\n",
            " 34  Addr_Type      1000000 non-null  object \n",
            " 35  Placement      1000000 non-null  object \n",
            " 36  Source         1000000 non-null  object \n",
            " 37  AddAuth        0 non-null        float64\n",
            " 38  UniqWithin     0 non-null        float64\n",
            " 39  LastUpdate     1000000 non-null  object \n",
            " 40  Effective      0 non-null        float64\n",
            " 41  Expired        0 non-null        float64\n",
            "dtypes: float64(24), int64(2), object(16)\n",
            "memory usage: 320.4+ MB\n"
          ]
        }
      ]
    },
    {
      "cell_type": "code",
      "source": [
        "df_nad[headers_needed].nunique()"
      ],
      "metadata": {
        "colab": {
          "base_uri": "https://localhost:8080/"
        },
        "id": "4qcTaBZsYh1J",
        "outputId": "25385461-23ab-4296-d589-e45ad04ac09d"
      },
      "execution_count": 9,
      "outputs": [
        {
          "output_type": "execute_result",
          "data": {
            "text/plain": [
              "State                 1\n",
              "County               22\n",
              "Inc_Muni             72\n",
              "Zip_Code            165\n",
              "StN_PreDir            8\n",
              "StreetName         8176\n",
              "StN_PosTyp           47\n",
              "Add_Number        32134\n",
              "Building              3\n",
              "Unit              23446\n",
              "NatGrid_Coord    904754\n",
              "dtype: int64"
            ]
          },
          "metadata": {},
          "execution_count": 9
        }
      ]
    },
    {
      "cell_type": "code",
      "source": [
        "df_nad.keys()"
      ],
      "metadata": {
        "colab": {
          "base_uri": "https://localhost:8080/"
        },
        "id": "8W5SvLVkTXkJ",
        "outputId": "87da6dce-5f78-43ac-89de-b9893e69c71a"
      },
      "execution_count": 10,
      "outputs": [
        {
          "output_type": "execute_result",
          "data": {
            "text/plain": [
              "Index(['OID', 'State', 'County', 'Inc_Muni', 'Uninc_Comm', 'Nbrhd_Comm',\n",
              "       'Post_Comm', 'Zip_Code', 'Plus_4', 'Bulk_Zip', 'Bulk_Plus4',\n",
              "       'StN_PreMod', 'StN_PreDir', 'StN_PreTyp', 'StN_PreSep', 'StreetName',\n",
              "       'StN_PosTyp', 'StN_PosDir', 'StN_PosMod', 'AddNum_Pre', 'Add_Number',\n",
              "       'AddNum_Suf', 'LandmkPart', 'LandmkName', 'Building', 'Floor', 'Unit',\n",
              "       'Room', 'Addtl_Loc', 'Milepost', 'Longitude', 'Latitude',\n",
              "       'NatGrid_Coord', 'GUID', 'Addr_Type', 'Placement', 'Source', 'AddAuth',\n",
              "       'UniqWithin', 'LastUpdate', 'Effective', 'Expired'],\n",
              "      dtype='object')"
            ]
          },
          "metadata": {},
          "execution_count": 10
        }
      ]
    },
    {
      "cell_type": "code",
      "source": [
        "# https://medium.com/analytics-vidhya/create-a-tokenizer-and-train-a-huggingface-roberta-model-from-scratch-f3ed1138180c\n",
        "\n",
        "# Sample chinese address\n",
        "# https://help.sap.com/docs/SAP_DATA_QUALITY_MANAGEMENT_SDK/7ac66320ca514acc89396a367db6dba8/e540e1677ee51014a997d681b0e91070.html?version=4.2.9\n",
        "\n",
        "# Address formatter\n",
        "# https://github.com/fulfilio/address-formatter/blob/develop/address_formatter/address.py"
      ],
      "metadata": {
        "id": "NQLEwKetdOjC"
      },
      "execution_count": 11,
      "outputs": []
    },
    {
      "cell_type": "code",
      "source": [
        "# addresses = LastName + (\", \" + FirstName if FirstName else \"\")\n",
        "items = \"CO\tAdams\t80601.0\tSouth\tCabbage\tAvenue\t282\t\t  \"\n",
        "print(\" \".join([str(s).strip() for s in items.split() if s is not 'NaN']))"
      ],
      "metadata": {
        "colab": {
          "base_uri": "https://localhost:8080/"
        },
        "id": "5wtmXCDebh0p",
        "outputId": "cd4b7a6a-2a34-4662-9e3e-617553cf0c96"
      },
      "execution_count": 12,
      "outputs": [
        {
          "output_type": "stream",
          "name": "stdout",
          "text": [
            "CO Adams 80601.0 South Cabbage Avenue 282\n"
          ]
        }
      ]
    },
    {
      "cell_type": "code",
      "source": [
        "headers_needed[:-1]"
      ],
      "metadata": {
        "colab": {
          "base_uri": "https://localhost:8080/"
        },
        "id": "KsZ453GJi2-Z",
        "outputId": "68246433-c6d3-44bc-ecd0-711269095cba"
      },
      "execution_count": 13,
      "outputs": [
        {
          "output_type": "execute_result",
          "data": {
            "text/plain": [
              "['State',\n",
              " 'County',\n",
              " 'Inc_Muni',\n",
              " 'Zip_Code',\n",
              " 'StN_PreDir',\n",
              " 'StreetName',\n",
              " 'StN_PosTyp',\n",
              " 'Add_Number',\n",
              " 'Building',\n",
              " 'Unit']"
            ]
          },
          "metadata": {},
          "execution_count": 13
        }
      ]
    },
    {
      "cell_type": "code",
      "source": [
        "df_nad['Zip_Code'] = df_nad.Zip_Code.apply(lambda x: str(x).split('.')[0])"
      ],
      "metadata": {
        "id": "iFBRkiU-kAuO"
      },
      "execution_count": 14,
      "outputs": []
    },
    {
      "cell_type": "code",
      "source": [
        "df_nad.fillna(value='', inplace=True)"
      ],
      "metadata": {
        "id": "dVZ-z69kjpll"
      },
      "execution_count": 15,
      "outputs": []
    },
    {
      "cell_type": "code",
      "source": [
        "df_nad[headers_needed].head()"
      ],
      "metadata": {
        "colab": {
          "base_uri": "https://localhost:8080/",
          "height": 288
        },
        "id": "jflzdSe08NF-",
        "outputId": "c8321f3e-42af-432f-e947-e8b197b69765"
      },
      "execution_count": 16,
      "outputs": [
        {
          "output_type": "execute_result",
          "data": {
            "text/plain": [
              "  State County  Inc_Muni Zip_Code StN_PreDir     StreetName StN_PosTyp  \\\n",
              "0    CO  Adams  BRIGHTON    80601      South        Cabbage     Avenue   \n",
              "1    CO  Adams  BRIGHTON    80601                   CABBAGE     Street   \n",
              "2    CO  Adams              80103       East           26TH      Court   \n",
              "3    CO  Adams              80105       East           26TH     Avenue   \n",
              "4    CO  Adams              80103             PEERLESS MINE       Road   \n",
              "\n",
              "   Add_Number Building Unit    NatGrid_Coord  \n",
              "0         282                13SEE1520325843  \n",
              "1          60                13SEE1528726184  \n",
              "2       64400                13SEE6552801229  \n",
              "3       83107                13SEE8440901177  \n",
              "4        6571                13SEE6613807911  "
            ],
            "text/html": [
              "\n",
              "  <div id=\"df-5fecfad4-ad32-4410-af7a-9bdfa07aa7e9\">\n",
              "    <div class=\"colab-df-container\">\n",
              "      <div>\n",
              "<style scoped>\n",
              "    .dataframe tbody tr th:only-of-type {\n",
              "        vertical-align: middle;\n",
              "    }\n",
              "\n",
              "    .dataframe tbody tr th {\n",
              "        vertical-align: top;\n",
              "    }\n",
              "\n",
              "    .dataframe thead th {\n",
              "        text-align: right;\n",
              "    }\n",
              "</style>\n",
              "<table border=\"1\" class=\"dataframe\">\n",
              "  <thead>\n",
              "    <tr style=\"text-align: right;\">\n",
              "      <th></th>\n",
              "      <th>State</th>\n",
              "      <th>County</th>\n",
              "      <th>Inc_Muni</th>\n",
              "      <th>Zip_Code</th>\n",
              "      <th>StN_PreDir</th>\n",
              "      <th>StreetName</th>\n",
              "      <th>StN_PosTyp</th>\n",
              "      <th>Add_Number</th>\n",
              "      <th>Building</th>\n",
              "      <th>Unit</th>\n",
              "      <th>NatGrid_Coord</th>\n",
              "    </tr>\n",
              "  </thead>\n",
              "  <tbody>\n",
              "    <tr>\n",
              "      <th>0</th>\n",
              "      <td>CO</td>\n",
              "      <td>Adams</td>\n",
              "      <td>BRIGHTON</td>\n",
              "      <td>80601</td>\n",
              "      <td>South</td>\n",
              "      <td>Cabbage</td>\n",
              "      <td>Avenue</td>\n",
              "      <td>282</td>\n",
              "      <td></td>\n",
              "      <td></td>\n",
              "      <td>13SEE1520325843</td>\n",
              "    </tr>\n",
              "    <tr>\n",
              "      <th>1</th>\n",
              "      <td>CO</td>\n",
              "      <td>Adams</td>\n",
              "      <td>BRIGHTON</td>\n",
              "      <td>80601</td>\n",
              "      <td></td>\n",
              "      <td>CABBAGE</td>\n",
              "      <td>Street</td>\n",
              "      <td>60</td>\n",
              "      <td></td>\n",
              "      <td></td>\n",
              "      <td>13SEE1528726184</td>\n",
              "    </tr>\n",
              "    <tr>\n",
              "      <th>2</th>\n",
              "      <td>CO</td>\n",
              "      <td>Adams</td>\n",
              "      <td></td>\n",
              "      <td>80103</td>\n",
              "      <td>East</td>\n",
              "      <td>26TH</td>\n",
              "      <td>Court</td>\n",
              "      <td>64400</td>\n",
              "      <td></td>\n",
              "      <td></td>\n",
              "      <td>13SEE6552801229</td>\n",
              "    </tr>\n",
              "    <tr>\n",
              "      <th>3</th>\n",
              "      <td>CO</td>\n",
              "      <td>Adams</td>\n",
              "      <td></td>\n",
              "      <td>80105</td>\n",
              "      <td>East</td>\n",
              "      <td>26TH</td>\n",
              "      <td>Avenue</td>\n",
              "      <td>83107</td>\n",
              "      <td></td>\n",
              "      <td></td>\n",
              "      <td>13SEE8440901177</td>\n",
              "    </tr>\n",
              "    <tr>\n",
              "      <th>4</th>\n",
              "      <td>CO</td>\n",
              "      <td>Adams</td>\n",
              "      <td></td>\n",
              "      <td>80103</td>\n",
              "      <td></td>\n",
              "      <td>PEERLESS MINE</td>\n",
              "      <td>Road</td>\n",
              "      <td>6571</td>\n",
              "      <td></td>\n",
              "      <td></td>\n",
              "      <td>13SEE6613807911</td>\n",
              "    </tr>\n",
              "  </tbody>\n",
              "</table>\n",
              "</div>\n",
              "      <button class=\"colab-df-convert\" onclick=\"convertToInteractive('df-5fecfad4-ad32-4410-af7a-9bdfa07aa7e9')\"\n",
              "              title=\"Convert this dataframe to an interactive table.\"\n",
              "              style=\"display:none;\">\n",
              "        \n",
              "  <svg xmlns=\"http://www.w3.org/2000/svg\" height=\"24px\"viewBox=\"0 0 24 24\"\n",
              "       width=\"24px\">\n",
              "    <path d=\"M0 0h24v24H0V0z\" fill=\"none\"/>\n",
              "    <path d=\"M18.56 5.44l.94 2.06.94-2.06 2.06-.94-2.06-.94-.94-2.06-.94 2.06-2.06.94zm-11 1L8.5 8.5l.94-2.06 2.06-.94-2.06-.94L8.5 2.5l-.94 2.06-2.06.94zm10 10l.94 2.06.94-2.06 2.06-.94-2.06-.94-.94-2.06-.94 2.06-2.06.94z\"/><path d=\"M17.41 7.96l-1.37-1.37c-.4-.4-.92-.59-1.43-.59-.52 0-1.04.2-1.43.59L10.3 9.45l-7.72 7.72c-.78.78-.78 2.05 0 2.83L4 21.41c.39.39.9.59 1.41.59.51 0 1.02-.2 1.41-.59l7.78-7.78 2.81-2.81c.8-.78.8-2.07 0-2.86zM5.41 20L4 18.59l7.72-7.72 1.47 1.35L5.41 20z\"/>\n",
              "  </svg>\n",
              "      </button>\n",
              "      \n",
              "  <style>\n",
              "    .colab-df-container {\n",
              "      display:flex;\n",
              "      flex-wrap:wrap;\n",
              "      gap: 12px;\n",
              "    }\n",
              "\n",
              "    .colab-df-convert {\n",
              "      background-color: #E8F0FE;\n",
              "      border: none;\n",
              "      border-radius: 50%;\n",
              "      cursor: pointer;\n",
              "      display: none;\n",
              "      fill: #1967D2;\n",
              "      height: 32px;\n",
              "      padding: 0 0 0 0;\n",
              "      width: 32px;\n",
              "    }\n",
              "\n",
              "    .colab-df-convert:hover {\n",
              "      background-color: #E2EBFA;\n",
              "      box-shadow: 0px 1px 2px rgba(60, 64, 67, 0.3), 0px 1px 3px 1px rgba(60, 64, 67, 0.15);\n",
              "      fill: #174EA6;\n",
              "    }\n",
              "\n",
              "    [theme=dark] .colab-df-convert {\n",
              "      background-color: #3B4455;\n",
              "      fill: #D2E3FC;\n",
              "    }\n",
              "\n",
              "    [theme=dark] .colab-df-convert:hover {\n",
              "      background-color: #434B5C;\n",
              "      box-shadow: 0px 1px 3px 1px rgba(0, 0, 0, 0.15);\n",
              "      filter: drop-shadow(0px 1px 2px rgba(0, 0, 0, 0.3));\n",
              "      fill: #FFFFFF;\n",
              "    }\n",
              "  </style>\n",
              "\n",
              "      <script>\n",
              "        const buttonEl =\n",
              "          document.querySelector('#df-5fecfad4-ad32-4410-af7a-9bdfa07aa7e9 button.colab-df-convert');\n",
              "        buttonEl.style.display =\n",
              "          google.colab.kernel.accessAllowed ? 'block' : 'none';\n",
              "\n",
              "        async function convertToInteractive(key) {\n",
              "          const element = document.querySelector('#df-5fecfad4-ad32-4410-af7a-9bdfa07aa7e9');\n",
              "          const dataTable =\n",
              "            await google.colab.kernel.invokeFunction('convertToInteractive',\n",
              "                                                     [key], {});\n",
              "          if (!dataTable) return;\n",
              "\n",
              "          const docLinkHtml = 'Like what you see? Visit the ' +\n",
              "            '<a target=\"_blank\" href=https://colab.research.google.com/notebooks/data_table.ipynb>data table notebook</a>'\n",
              "            + ' to learn more about interactive tables.';\n",
              "          element.innerHTML = '';\n",
              "          dataTable['output_type'] = 'display_data';\n",
              "          await google.colab.output.renderOutput(dataTable, element);\n",
              "          const docLink = document.createElement('div');\n",
              "          docLink.innerHTML = docLinkHtml;\n",
              "          element.appendChild(docLink);\n",
              "        }\n",
              "      </script>\n",
              "    </div>\n",
              "  </div>\n",
              "  "
            ]
          },
          "metadata": {},
          "execution_count": 16
        }
      ]
    },
    {
      "cell_type": "code",
      "source": [
        "# df_nad['Zip_Code'] = df_nad.Zip_Code.astype(int)\n",
        "\n",
        "cols = headers_needed[:-1]\n",
        "df_nad['combined'] = df_nad[cols].apply(lambda row: ' '.join(row.values.astype(str)), axis=1)"
      ],
      "metadata": {
        "id": "hIlXp17ChXsK"
      },
      "execution_count": 17,
      "outputs": []
    },
    {
      "cell_type": "code",
      "source": [
        "df_nad.head(25)"
      ],
      "metadata": {
        "colab": {
          "base_uri": "https://localhost:8080/",
          "height": 1000
        },
        "id": "h6I_YiBvjH2d",
        "outputId": "e170d896-0460-42eb-8341-e7ea9e79fcd1"
      },
      "execution_count": 27,
      "outputs": [
        {
          "output_type": "execute_result",
          "data": {
            "text/plain": [
              "    OID State County  Inc_Muni Uninc_Comm Nbrhd_Comm Post_Comm Zip_Code  \\\n",
              "0    -1    CO  Adams  BRIGHTON                                    80601   \n",
              "1    -1    CO  Adams  BRIGHTON                                    80601   \n",
              "2    -1    CO  Adams                                              80103   \n",
              "3    -1    CO  Adams                                              80105   \n",
              "4    -1    CO  Adams                                              80103   \n",
              "5    -1    CO  Adams                                              80103   \n",
              "6    -1    CO  Adams                                              80103   \n",
              "7    -1    CO  Adams                                              80103   \n",
              "8    -1    CO  Adams                                              80103   \n",
              "9    -1    CO  Adams                                              80103   \n",
              "10   -1    CO  Adams                                              80103   \n",
              "11   -1    CO  Adams                                              80103   \n",
              "12   -1    CO  Adams                                              80103   \n",
              "13   -1    CO  Adams                                              80103   \n",
              "14   -1    CO  Adams                                              80103   \n",
              "15   -1    CO  Adams                                              80103   \n",
              "16   -1    CO  Adams                                              80103   \n",
              "17   -1    CO  Adams                                              80103   \n",
              "18   -1    CO  Adams                                              80103   \n",
              "19   -1    CO  Adams                                              80103   \n",
              "20   -1    CO  Adams                                              80103   \n",
              "21   -1    CO  Adams                                              80103   \n",
              "22   -1    CO  Adams                                              80103   \n",
              "23   -1    CO  Adams                                              80136   \n",
              "24   -1    CO  Adams                                              80103   \n",
              "\n",
              "   Plus_4 Bulk_Zip  ... GUID Addr_Type Placement            Source AddAuth  \\\n",
              "0                   ...        Unknown   Unknown  Colorado OIT GIS           \n",
              "1                   ...        Unknown   Unknown  Colorado OIT GIS           \n",
              "2                   ...        Unknown   Unknown  Colorado OIT GIS           \n",
              "3                   ...        Unknown   Unknown  Colorado OIT GIS           \n",
              "4                   ...        Unknown   Unknown  Colorado OIT GIS           \n",
              "5                   ...        Unknown   Unknown  Colorado OIT GIS           \n",
              "6                   ...        Unknown   Unknown  Colorado OIT GIS           \n",
              "7                   ...        Unknown   Unknown  Colorado OIT GIS           \n",
              "8                   ...        Unknown   Unknown  Colorado OIT GIS           \n",
              "9                   ...        Unknown   Unknown  Colorado OIT GIS           \n",
              "10                  ...        Unknown   Unknown  Colorado OIT GIS           \n",
              "11                  ...        Unknown   Unknown  Colorado OIT GIS           \n",
              "12                  ...        Unknown   Unknown  Colorado OIT GIS           \n",
              "13                  ...        Unknown   Unknown  Colorado OIT GIS           \n",
              "14                  ...        Unknown   Unknown  Colorado OIT GIS           \n",
              "15                  ...        Unknown   Unknown  Colorado OIT GIS           \n",
              "16                  ...        Unknown   Unknown  Colorado OIT GIS           \n",
              "17                  ...        Unknown   Unknown  Colorado OIT GIS           \n",
              "18                  ...        Unknown   Unknown  Colorado OIT GIS           \n",
              "19                  ...        Unknown   Unknown  Colorado OIT GIS           \n",
              "20                  ...        Unknown   Unknown  Colorado OIT GIS           \n",
              "21                  ...        Unknown   Unknown  Colorado OIT GIS           \n",
              "22                  ...        Unknown   Unknown  Colorado OIT GIS           \n",
              "23                  ...        Unknown   Unknown  Colorado OIT GIS           \n",
              "24                  ...        Unknown   Unknown  Colorado OIT GIS           \n",
              "\n",
              "   UniqWithin        LastUpdate Effective Expired  \\\n",
              "0              7/1/2021 0:00:00                     \n",
              "1              7/1/2021 0:00:00                     \n",
              "2              7/1/2021 0:00:00                     \n",
              "3              7/1/2021 0:00:00                     \n",
              "4              7/1/2021 0:00:00                     \n",
              "5              7/1/2021 0:00:00                     \n",
              "6              7/1/2021 0:00:00                     \n",
              "7              7/1/2021 0:00:00                     \n",
              "8              7/1/2021 0:00:00                     \n",
              "9              7/1/2021 0:00:00                     \n",
              "10             7/1/2021 0:00:00                     \n",
              "11             7/1/2021 0:00:00                     \n",
              "12             7/1/2021 0:00:00                     \n",
              "13             7/1/2021 0:00:00                     \n",
              "14             7/1/2021 0:00:00                     \n",
              "15             7/1/2021 0:00:00                     \n",
              "16             7/1/2021 0:00:00                     \n",
              "17             7/1/2021 0:00:00                     \n",
              "18             7/1/2021 0:00:00                     \n",
              "19             7/1/2021 0:00:00                     \n",
              "20             7/1/2021 0:00:00                     \n",
              "21             7/1/2021 0:00:00                     \n",
              "22             7/1/2021 0:00:00                     \n",
              "23             7/1/2021 0:00:00                     \n",
              "24             7/1/2021 0:00:00                     \n",
              "\n",
              "                                             combined  \n",
              "0   CO Adams BRIGHTON 80601 South Cabbage Avenue 2...  \n",
              "1        CO Adams BRIGHTON 80601  CABBAGE Street 60    \n",
              "2             CO Adams  80103 East 26TH Court 64400    \n",
              "3            CO Adams  80105 East 26TH Avenue 83107    \n",
              "4          CO Adams  80103  PEERLESS MINE Road 6571    \n",
              "5                CO Adams  80103  BEHRENS Road 4680    \n",
              "6                CO Adams  80103  BEHRENS Road 5505    \n",
              "7          CO Adams  80103  CALHOUN BYERS Road 6570    \n",
              "8                CO Adams  80103  BEHRENS Road 4500    \n",
              "9                CO Adams  80103  BEHRENS Road 5440    \n",
              "10         CO Adams  80103  RECTOR LEADER Road 6001    \n",
              "11        CO Adams  80103  BRADBURY-KREBS Road 2020    \n",
              "12        CO Adams  80103  BRADBURY-KREBS Road 1944    \n",
              "13        CO Adams  80103  BRADBURY-KREBS Road 2210    \n",
              "14        CO Adams  80103  BRADBURY-KREBS Road 2234    \n",
              "15        CO Adams  80103  BRADBURY-KREBS Road 2302    \n",
              "16        CO Adams  80103  BRADBURY-KREBS Road 2324    \n",
              "17        CO Adams  80103  BRADBURY-KREBS Road 2346    \n",
              "18        CO Adams  80103  BRADBURY-KREBS Road 2256    \n",
              "19        CO Adams  80103  BRADBURY-KREBS Road 2368    \n",
              "20        CO Adams  80103  BRADBURY-KREBS Road 2278    \n",
              "21        CO Adams  80103  BRADBURY-KREBS Road 2142    \n",
              "22        CO Adams  80103  BRADBURY-KREBS Road 1988    \n",
              "23        CO Adams  80136  BRADBURY KREBS Road 2355    \n",
              "24           CO Adams  80103 East 72ND Avenue 67370    \n",
              "\n",
              "[25 rows x 43 columns]"
            ],
            "text/html": [
              "\n",
              "  <div id=\"df-03a27ca1-95ec-4a9e-a27f-3843a2de7281\">\n",
              "    <div class=\"colab-df-container\">\n",
              "      <div>\n",
              "<style scoped>\n",
              "    .dataframe tbody tr th:only-of-type {\n",
              "        vertical-align: middle;\n",
              "    }\n",
              "\n",
              "    .dataframe tbody tr th {\n",
              "        vertical-align: top;\n",
              "    }\n",
              "\n",
              "    .dataframe thead th {\n",
              "        text-align: right;\n",
              "    }\n",
              "</style>\n",
              "<table border=\"1\" class=\"dataframe\">\n",
              "  <thead>\n",
              "    <tr style=\"text-align: right;\">\n",
              "      <th></th>\n",
              "      <th>OID</th>\n",
              "      <th>State</th>\n",
              "      <th>County</th>\n",
              "      <th>Inc_Muni</th>\n",
              "      <th>Uninc_Comm</th>\n",
              "      <th>Nbrhd_Comm</th>\n",
              "      <th>Post_Comm</th>\n",
              "      <th>Zip_Code</th>\n",
              "      <th>Plus_4</th>\n",
              "      <th>Bulk_Zip</th>\n",
              "      <th>...</th>\n",
              "      <th>GUID</th>\n",
              "      <th>Addr_Type</th>\n",
              "      <th>Placement</th>\n",
              "      <th>Source</th>\n",
              "      <th>AddAuth</th>\n",
              "      <th>UniqWithin</th>\n",
              "      <th>LastUpdate</th>\n",
              "      <th>Effective</th>\n",
              "      <th>Expired</th>\n",
              "      <th>combined</th>\n",
              "    </tr>\n",
              "  </thead>\n",
              "  <tbody>\n",
              "    <tr>\n",
              "      <th>0</th>\n",
              "      <td>-1</td>\n",
              "      <td>CO</td>\n",
              "      <td>Adams</td>\n",
              "      <td>BRIGHTON</td>\n",
              "      <td></td>\n",
              "      <td></td>\n",
              "      <td></td>\n",
              "      <td>80601</td>\n",
              "      <td></td>\n",
              "      <td></td>\n",
              "      <td>...</td>\n",
              "      <td></td>\n",
              "      <td>Unknown</td>\n",
              "      <td>Unknown</td>\n",
              "      <td>Colorado OIT GIS</td>\n",
              "      <td></td>\n",
              "      <td></td>\n",
              "      <td>7/1/2021 0:00:00</td>\n",
              "      <td></td>\n",
              "      <td></td>\n",
              "      <td>CO Adams BRIGHTON 80601 South Cabbage Avenue 2...</td>\n",
              "    </tr>\n",
              "    <tr>\n",
              "      <th>1</th>\n",
              "      <td>-1</td>\n",
              "      <td>CO</td>\n",
              "      <td>Adams</td>\n",
              "      <td>BRIGHTON</td>\n",
              "      <td></td>\n",
              "      <td></td>\n",
              "      <td></td>\n",
              "      <td>80601</td>\n",
              "      <td></td>\n",
              "      <td></td>\n",
              "      <td>...</td>\n",
              "      <td></td>\n",
              "      <td>Unknown</td>\n",
              "      <td>Unknown</td>\n",
              "      <td>Colorado OIT GIS</td>\n",
              "      <td></td>\n",
              "      <td></td>\n",
              "      <td>7/1/2021 0:00:00</td>\n",
              "      <td></td>\n",
              "      <td></td>\n",
              "      <td>CO Adams BRIGHTON 80601  CABBAGE Street 60</td>\n",
              "    </tr>\n",
              "    <tr>\n",
              "      <th>2</th>\n",
              "      <td>-1</td>\n",
              "      <td>CO</td>\n",
              "      <td>Adams</td>\n",
              "      <td></td>\n",
              "      <td></td>\n",
              "      <td></td>\n",
              "      <td></td>\n",
              "      <td>80103</td>\n",
              "      <td></td>\n",
              "      <td></td>\n",
              "      <td>...</td>\n",
              "      <td></td>\n",
              "      <td>Unknown</td>\n",
              "      <td>Unknown</td>\n",
              "      <td>Colorado OIT GIS</td>\n",
              "      <td></td>\n",
              "      <td></td>\n",
              "      <td>7/1/2021 0:00:00</td>\n",
              "      <td></td>\n",
              "      <td></td>\n",
              "      <td>CO Adams  80103 East 26TH Court 64400</td>\n",
              "    </tr>\n",
              "    <tr>\n",
              "      <th>3</th>\n",
              "      <td>-1</td>\n",
              "      <td>CO</td>\n",
              "      <td>Adams</td>\n",
              "      <td></td>\n",
              "      <td></td>\n",
              "      <td></td>\n",
              "      <td></td>\n",
              "      <td>80105</td>\n",
              "      <td></td>\n",
              "      <td></td>\n",
              "      <td>...</td>\n",
              "      <td></td>\n",
              "      <td>Unknown</td>\n",
              "      <td>Unknown</td>\n",
              "      <td>Colorado OIT GIS</td>\n",
              "      <td></td>\n",
              "      <td></td>\n",
              "      <td>7/1/2021 0:00:00</td>\n",
              "      <td></td>\n",
              "      <td></td>\n",
              "      <td>CO Adams  80105 East 26TH Avenue 83107</td>\n",
              "    </tr>\n",
              "    <tr>\n",
              "      <th>4</th>\n",
              "      <td>-1</td>\n",
              "      <td>CO</td>\n",
              "      <td>Adams</td>\n",
              "      <td></td>\n",
              "      <td></td>\n",
              "      <td></td>\n",
              "      <td></td>\n",
              "      <td>80103</td>\n",
              "      <td></td>\n",
              "      <td></td>\n",
              "      <td>...</td>\n",
              "      <td></td>\n",
              "      <td>Unknown</td>\n",
              "      <td>Unknown</td>\n",
              "      <td>Colorado OIT GIS</td>\n",
              "      <td></td>\n",
              "      <td></td>\n",
              "      <td>7/1/2021 0:00:00</td>\n",
              "      <td></td>\n",
              "      <td></td>\n",
              "      <td>CO Adams  80103  PEERLESS MINE Road 6571</td>\n",
              "    </tr>\n",
              "    <tr>\n",
              "      <th>5</th>\n",
              "      <td>-1</td>\n",
              "      <td>CO</td>\n",
              "      <td>Adams</td>\n",
              "      <td></td>\n",
              "      <td></td>\n",
              "      <td></td>\n",
              "      <td></td>\n",
              "      <td>80103</td>\n",
              "      <td></td>\n",
              "      <td></td>\n",
              "      <td>...</td>\n",
              "      <td></td>\n",
              "      <td>Unknown</td>\n",
              "      <td>Unknown</td>\n",
              "      <td>Colorado OIT GIS</td>\n",
              "      <td></td>\n",
              "      <td></td>\n",
              "      <td>7/1/2021 0:00:00</td>\n",
              "      <td></td>\n",
              "      <td></td>\n",
              "      <td>CO Adams  80103  BEHRENS Road 4680</td>\n",
              "    </tr>\n",
              "    <tr>\n",
              "      <th>6</th>\n",
              "      <td>-1</td>\n",
              "      <td>CO</td>\n",
              "      <td>Adams</td>\n",
              "      <td></td>\n",
              "      <td></td>\n",
              "      <td></td>\n",
              "      <td></td>\n",
              "      <td>80103</td>\n",
              "      <td></td>\n",
              "      <td></td>\n",
              "      <td>...</td>\n",
              "      <td></td>\n",
              "      <td>Unknown</td>\n",
              "      <td>Unknown</td>\n",
              "      <td>Colorado OIT GIS</td>\n",
              "      <td></td>\n",
              "      <td></td>\n",
              "      <td>7/1/2021 0:00:00</td>\n",
              "      <td></td>\n",
              "      <td></td>\n",
              "      <td>CO Adams  80103  BEHRENS Road 5505</td>\n",
              "    </tr>\n",
              "    <tr>\n",
              "      <th>7</th>\n",
              "      <td>-1</td>\n",
              "      <td>CO</td>\n",
              "      <td>Adams</td>\n",
              "      <td></td>\n",
              "      <td></td>\n",
              "      <td></td>\n",
              "      <td></td>\n",
              "      <td>80103</td>\n",
              "      <td></td>\n",
              "      <td></td>\n",
              "      <td>...</td>\n",
              "      <td></td>\n",
              "      <td>Unknown</td>\n",
              "      <td>Unknown</td>\n",
              "      <td>Colorado OIT GIS</td>\n",
              "      <td></td>\n",
              "      <td></td>\n",
              "      <td>7/1/2021 0:00:00</td>\n",
              "      <td></td>\n",
              "      <td></td>\n",
              "      <td>CO Adams  80103  CALHOUN BYERS Road 6570</td>\n",
              "    </tr>\n",
              "    <tr>\n",
              "      <th>8</th>\n",
              "      <td>-1</td>\n",
              "      <td>CO</td>\n",
              "      <td>Adams</td>\n",
              "      <td></td>\n",
              "      <td></td>\n",
              "      <td></td>\n",
              "      <td></td>\n",
              "      <td>80103</td>\n",
              "      <td></td>\n",
              "      <td></td>\n",
              "      <td>...</td>\n",
              "      <td></td>\n",
              "      <td>Unknown</td>\n",
              "      <td>Unknown</td>\n",
              "      <td>Colorado OIT GIS</td>\n",
              "      <td></td>\n",
              "      <td></td>\n",
              "      <td>7/1/2021 0:00:00</td>\n",
              "      <td></td>\n",
              "      <td></td>\n",
              "      <td>CO Adams  80103  BEHRENS Road 4500</td>\n",
              "    </tr>\n",
              "    <tr>\n",
              "      <th>9</th>\n",
              "      <td>-1</td>\n",
              "      <td>CO</td>\n",
              "      <td>Adams</td>\n",
              "      <td></td>\n",
              "      <td></td>\n",
              "      <td></td>\n",
              "      <td></td>\n",
              "      <td>80103</td>\n",
              "      <td></td>\n",
              "      <td></td>\n",
              "      <td>...</td>\n",
              "      <td></td>\n",
              "      <td>Unknown</td>\n",
              "      <td>Unknown</td>\n",
              "      <td>Colorado OIT GIS</td>\n",
              "      <td></td>\n",
              "      <td></td>\n",
              "      <td>7/1/2021 0:00:00</td>\n",
              "      <td></td>\n",
              "      <td></td>\n",
              "      <td>CO Adams  80103  BEHRENS Road 5440</td>\n",
              "    </tr>\n",
              "    <tr>\n",
              "      <th>10</th>\n",
              "      <td>-1</td>\n",
              "      <td>CO</td>\n",
              "      <td>Adams</td>\n",
              "      <td></td>\n",
              "      <td></td>\n",
              "      <td></td>\n",
              "      <td></td>\n",
              "      <td>80103</td>\n",
              "      <td></td>\n",
              "      <td></td>\n",
              "      <td>...</td>\n",
              "      <td></td>\n",
              "      <td>Unknown</td>\n",
              "      <td>Unknown</td>\n",
              "      <td>Colorado OIT GIS</td>\n",
              "      <td></td>\n",
              "      <td></td>\n",
              "      <td>7/1/2021 0:00:00</td>\n",
              "      <td></td>\n",
              "      <td></td>\n",
              "      <td>CO Adams  80103  RECTOR LEADER Road 6001</td>\n",
              "    </tr>\n",
              "    <tr>\n",
              "      <th>11</th>\n",
              "      <td>-1</td>\n",
              "      <td>CO</td>\n",
              "      <td>Adams</td>\n",
              "      <td></td>\n",
              "      <td></td>\n",
              "      <td></td>\n",
              "      <td></td>\n",
              "      <td>80103</td>\n",
              "      <td></td>\n",
              "      <td></td>\n",
              "      <td>...</td>\n",
              "      <td></td>\n",
              "      <td>Unknown</td>\n",
              "      <td>Unknown</td>\n",
              "      <td>Colorado OIT GIS</td>\n",
              "      <td></td>\n",
              "      <td></td>\n",
              "      <td>7/1/2021 0:00:00</td>\n",
              "      <td></td>\n",
              "      <td></td>\n",
              "      <td>CO Adams  80103  BRADBURY-KREBS Road 2020</td>\n",
              "    </tr>\n",
              "    <tr>\n",
              "      <th>12</th>\n",
              "      <td>-1</td>\n",
              "      <td>CO</td>\n",
              "      <td>Adams</td>\n",
              "      <td></td>\n",
              "      <td></td>\n",
              "      <td></td>\n",
              "      <td></td>\n",
              "      <td>80103</td>\n",
              "      <td></td>\n",
              "      <td></td>\n",
              "      <td>...</td>\n",
              "      <td></td>\n",
              "      <td>Unknown</td>\n",
              "      <td>Unknown</td>\n",
              "      <td>Colorado OIT GIS</td>\n",
              "      <td></td>\n",
              "      <td></td>\n",
              "      <td>7/1/2021 0:00:00</td>\n",
              "      <td></td>\n",
              "      <td></td>\n",
              "      <td>CO Adams  80103  BRADBURY-KREBS Road 1944</td>\n",
              "    </tr>\n",
              "    <tr>\n",
              "      <th>13</th>\n",
              "      <td>-1</td>\n",
              "      <td>CO</td>\n",
              "      <td>Adams</td>\n",
              "      <td></td>\n",
              "      <td></td>\n",
              "      <td></td>\n",
              "      <td></td>\n",
              "      <td>80103</td>\n",
              "      <td></td>\n",
              "      <td></td>\n",
              "      <td>...</td>\n",
              "      <td></td>\n",
              "      <td>Unknown</td>\n",
              "      <td>Unknown</td>\n",
              "      <td>Colorado OIT GIS</td>\n",
              "      <td></td>\n",
              "      <td></td>\n",
              "      <td>7/1/2021 0:00:00</td>\n",
              "      <td></td>\n",
              "      <td></td>\n",
              "      <td>CO Adams  80103  BRADBURY-KREBS Road 2210</td>\n",
              "    </tr>\n",
              "    <tr>\n",
              "      <th>14</th>\n",
              "      <td>-1</td>\n",
              "      <td>CO</td>\n",
              "      <td>Adams</td>\n",
              "      <td></td>\n",
              "      <td></td>\n",
              "      <td></td>\n",
              "      <td></td>\n",
              "      <td>80103</td>\n",
              "      <td></td>\n",
              "      <td></td>\n",
              "      <td>...</td>\n",
              "      <td></td>\n",
              "      <td>Unknown</td>\n",
              "      <td>Unknown</td>\n",
              "      <td>Colorado OIT GIS</td>\n",
              "      <td></td>\n",
              "      <td></td>\n",
              "      <td>7/1/2021 0:00:00</td>\n",
              "      <td></td>\n",
              "      <td></td>\n",
              "      <td>CO Adams  80103  BRADBURY-KREBS Road 2234</td>\n",
              "    </tr>\n",
              "    <tr>\n",
              "      <th>15</th>\n",
              "      <td>-1</td>\n",
              "      <td>CO</td>\n",
              "      <td>Adams</td>\n",
              "      <td></td>\n",
              "      <td></td>\n",
              "      <td></td>\n",
              "      <td></td>\n",
              "      <td>80103</td>\n",
              "      <td></td>\n",
              "      <td></td>\n",
              "      <td>...</td>\n",
              "      <td></td>\n",
              "      <td>Unknown</td>\n",
              "      <td>Unknown</td>\n",
              "      <td>Colorado OIT GIS</td>\n",
              "      <td></td>\n",
              "      <td></td>\n",
              "      <td>7/1/2021 0:00:00</td>\n",
              "      <td></td>\n",
              "      <td></td>\n",
              "      <td>CO Adams  80103  BRADBURY-KREBS Road 2302</td>\n",
              "    </tr>\n",
              "    <tr>\n",
              "      <th>16</th>\n",
              "      <td>-1</td>\n",
              "      <td>CO</td>\n",
              "      <td>Adams</td>\n",
              "      <td></td>\n",
              "      <td></td>\n",
              "      <td></td>\n",
              "      <td></td>\n",
              "      <td>80103</td>\n",
              "      <td></td>\n",
              "      <td></td>\n",
              "      <td>...</td>\n",
              "      <td></td>\n",
              "      <td>Unknown</td>\n",
              "      <td>Unknown</td>\n",
              "      <td>Colorado OIT GIS</td>\n",
              "      <td></td>\n",
              "      <td></td>\n",
              "      <td>7/1/2021 0:00:00</td>\n",
              "      <td></td>\n",
              "      <td></td>\n",
              "      <td>CO Adams  80103  BRADBURY-KREBS Road 2324</td>\n",
              "    </tr>\n",
              "    <tr>\n",
              "      <th>17</th>\n",
              "      <td>-1</td>\n",
              "      <td>CO</td>\n",
              "      <td>Adams</td>\n",
              "      <td></td>\n",
              "      <td></td>\n",
              "      <td></td>\n",
              "      <td></td>\n",
              "      <td>80103</td>\n",
              "      <td></td>\n",
              "      <td></td>\n",
              "      <td>...</td>\n",
              "      <td></td>\n",
              "      <td>Unknown</td>\n",
              "      <td>Unknown</td>\n",
              "      <td>Colorado OIT GIS</td>\n",
              "      <td></td>\n",
              "      <td></td>\n",
              "      <td>7/1/2021 0:00:00</td>\n",
              "      <td></td>\n",
              "      <td></td>\n",
              "      <td>CO Adams  80103  BRADBURY-KREBS Road 2346</td>\n",
              "    </tr>\n",
              "    <tr>\n",
              "      <th>18</th>\n",
              "      <td>-1</td>\n",
              "      <td>CO</td>\n",
              "      <td>Adams</td>\n",
              "      <td></td>\n",
              "      <td></td>\n",
              "      <td></td>\n",
              "      <td></td>\n",
              "      <td>80103</td>\n",
              "      <td></td>\n",
              "      <td></td>\n",
              "      <td>...</td>\n",
              "      <td></td>\n",
              "      <td>Unknown</td>\n",
              "      <td>Unknown</td>\n",
              "      <td>Colorado OIT GIS</td>\n",
              "      <td></td>\n",
              "      <td></td>\n",
              "      <td>7/1/2021 0:00:00</td>\n",
              "      <td></td>\n",
              "      <td></td>\n",
              "      <td>CO Adams  80103  BRADBURY-KREBS Road 2256</td>\n",
              "    </tr>\n",
              "    <tr>\n",
              "      <th>19</th>\n",
              "      <td>-1</td>\n",
              "      <td>CO</td>\n",
              "      <td>Adams</td>\n",
              "      <td></td>\n",
              "      <td></td>\n",
              "      <td></td>\n",
              "      <td></td>\n",
              "      <td>80103</td>\n",
              "      <td></td>\n",
              "      <td></td>\n",
              "      <td>...</td>\n",
              "      <td></td>\n",
              "      <td>Unknown</td>\n",
              "      <td>Unknown</td>\n",
              "      <td>Colorado OIT GIS</td>\n",
              "      <td></td>\n",
              "      <td></td>\n",
              "      <td>7/1/2021 0:00:00</td>\n",
              "      <td></td>\n",
              "      <td></td>\n",
              "      <td>CO Adams  80103  BRADBURY-KREBS Road 2368</td>\n",
              "    </tr>\n",
              "    <tr>\n",
              "      <th>20</th>\n",
              "      <td>-1</td>\n",
              "      <td>CO</td>\n",
              "      <td>Adams</td>\n",
              "      <td></td>\n",
              "      <td></td>\n",
              "      <td></td>\n",
              "      <td></td>\n",
              "      <td>80103</td>\n",
              "      <td></td>\n",
              "      <td></td>\n",
              "      <td>...</td>\n",
              "      <td></td>\n",
              "      <td>Unknown</td>\n",
              "      <td>Unknown</td>\n",
              "      <td>Colorado OIT GIS</td>\n",
              "      <td></td>\n",
              "      <td></td>\n",
              "      <td>7/1/2021 0:00:00</td>\n",
              "      <td></td>\n",
              "      <td></td>\n",
              "      <td>CO Adams  80103  BRADBURY-KREBS Road 2278</td>\n",
              "    </tr>\n",
              "    <tr>\n",
              "      <th>21</th>\n",
              "      <td>-1</td>\n",
              "      <td>CO</td>\n",
              "      <td>Adams</td>\n",
              "      <td></td>\n",
              "      <td></td>\n",
              "      <td></td>\n",
              "      <td></td>\n",
              "      <td>80103</td>\n",
              "      <td></td>\n",
              "      <td></td>\n",
              "      <td>...</td>\n",
              "      <td></td>\n",
              "      <td>Unknown</td>\n",
              "      <td>Unknown</td>\n",
              "      <td>Colorado OIT GIS</td>\n",
              "      <td></td>\n",
              "      <td></td>\n",
              "      <td>7/1/2021 0:00:00</td>\n",
              "      <td></td>\n",
              "      <td></td>\n",
              "      <td>CO Adams  80103  BRADBURY-KREBS Road 2142</td>\n",
              "    </tr>\n",
              "    <tr>\n",
              "      <th>22</th>\n",
              "      <td>-1</td>\n",
              "      <td>CO</td>\n",
              "      <td>Adams</td>\n",
              "      <td></td>\n",
              "      <td></td>\n",
              "      <td></td>\n",
              "      <td></td>\n",
              "      <td>80103</td>\n",
              "      <td></td>\n",
              "      <td></td>\n",
              "      <td>...</td>\n",
              "      <td></td>\n",
              "      <td>Unknown</td>\n",
              "      <td>Unknown</td>\n",
              "      <td>Colorado OIT GIS</td>\n",
              "      <td></td>\n",
              "      <td></td>\n",
              "      <td>7/1/2021 0:00:00</td>\n",
              "      <td></td>\n",
              "      <td></td>\n",
              "      <td>CO Adams  80103  BRADBURY-KREBS Road 1988</td>\n",
              "    </tr>\n",
              "    <tr>\n",
              "      <th>23</th>\n",
              "      <td>-1</td>\n",
              "      <td>CO</td>\n",
              "      <td>Adams</td>\n",
              "      <td></td>\n",
              "      <td></td>\n",
              "      <td></td>\n",
              "      <td></td>\n",
              "      <td>80136</td>\n",
              "      <td></td>\n",
              "      <td></td>\n",
              "      <td>...</td>\n",
              "      <td></td>\n",
              "      <td>Unknown</td>\n",
              "      <td>Unknown</td>\n",
              "      <td>Colorado OIT GIS</td>\n",
              "      <td></td>\n",
              "      <td></td>\n",
              "      <td>7/1/2021 0:00:00</td>\n",
              "      <td></td>\n",
              "      <td></td>\n",
              "      <td>CO Adams  80136  BRADBURY KREBS Road 2355</td>\n",
              "    </tr>\n",
              "    <tr>\n",
              "      <th>24</th>\n",
              "      <td>-1</td>\n",
              "      <td>CO</td>\n",
              "      <td>Adams</td>\n",
              "      <td></td>\n",
              "      <td></td>\n",
              "      <td></td>\n",
              "      <td></td>\n",
              "      <td>80103</td>\n",
              "      <td></td>\n",
              "      <td></td>\n",
              "      <td>...</td>\n",
              "      <td></td>\n",
              "      <td>Unknown</td>\n",
              "      <td>Unknown</td>\n",
              "      <td>Colorado OIT GIS</td>\n",
              "      <td></td>\n",
              "      <td></td>\n",
              "      <td>7/1/2021 0:00:00</td>\n",
              "      <td></td>\n",
              "      <td></td>\n",
              "      <td>CO Adams  80103 East 72ND Avenue 67370</td>\n",
              "    </tr>\n",
              "  </tbody>\n",
              "</table>\n",
              "<p>25 rows × 43 columns</p>\n",
              "</div>\n",
              "      <button class=\"colab-df-convert\" onclick=\"convertToInteractive('df-03a27ca1-95ec-4a9e-a27f-3843a2de7281')\"\n",
              "              title=\"Convert this dataframe to an interactive table.\"\n",
              "              style=\"display:none;\">\n",
              "        \n",
              "  <svg xmlns=\"http://www.w3.org/2000/svg\" height=\"24px\"viewBox=\"0 0 24 24\"\n",
              "       width=\"24px\">\n",
              "    <path d=\"M0 0h24v24H0V0z\" fill=\"none\"/>\n",
              "    <path d=\"M18.56 5.44l.94 2.06.94-2.06 2.06-.94-2.06-.94-.94-2.06-.94 2.06-2.06.94zm-11 1L8.5 8.5l.94-2.06 2.06-.94-2.06-.94L8.5 2.5l-.94 2.06-2.06.94zm10 10l.94 2.06.94-2.06 2.06-.94-2.06-.94-.94-2.06-.94 2.06-2.06.94z\"/><path d=\"M17.41 7.96l-1.37-1.37c-.4-.4-.92-.59-1.43-.59-.52 0-1.04.2-1.43.59L10.3 9.45l-7.72 7.72c-.78.78-.78 2.05 0 2.83L4 21.41c.39.39.9.59 1.41.59.51 0 1.02-.2 1.41-.59l7.78-7.78 2.81-2.81c.8-.78.8-2.07 0-2.86zM5.41 20L4 18.59l7.72-7.72 1.47 1.35L5.41 20z\"/>\n",
              "  </svg>\n",
              "      </button>\n",
              "      \n",
              "  <style>\n",
              "    .colab-df-container {\n",
              "      display:flex;\n",
              "      flex-wrap:wrap;\n",
              "      gap: 12px;\n",
              "    }\n",
              "\n",
              "    .colab-df-convert {\n",
              "      background-color: #E8F0FE;\n",
              "      border: none;\n",
              "      border-radius: 50%;\n",
              "      cursor: pointer;\n",
              "      display: none;\n",
              "      fill: #1967D2;\n",
              "      height: 32px;\n",
              "      padding: 0 0 0 0;\n",
              "      width: 32px;\n",
              "    }\n",
              "\n",
              "    .colab-df-convert:hover {\n",
              "      background-color: #E2EBFA;\n",
              "      box-shadow: 0px 1px 2px rgba(60, 64, 67, 0.3), 0px 1px 3px 1px rgba(60, 64, 67, 0.15);\n",
              "      fill: #174EA6;\n",
              "    }\n",
              "\n",
              "    [theme=dark] .colab-df-convert {\n",
              "      background-color: #3B4455;\n",
              "      fill: #D2E3FC;\n",
              "    }\n",
              "\n",
              "    [theme=dark] .colab-df-convert:hover {\n",
              "      background-color: #434B5C;\n",
              "      box-shadow: 0px 1px 3px 1px rgba(0, 0, 0, 0.15);\n",
              "      filter: drop-shadow(0px 1px 2px rgba(0, 0, 0, 0.3));\n",
              "      fill: #FFFFFF;\n",
              "    }\n",
              "  </style>\n",
              "\n",
              "      <script>\n",
              "        const buttonEl =\n",
              "          document.querySelector('#df-03a27ca1-95ec-4a9e-a27f-3843a2de7281 button.colab-df-convert');\n",
              "        buttonEl.style.display =\n",
              "          google.colab.kernel.accessAllowed ? 'block' : 'none';\n",
              "\n",
              "        async function convertToInteractive(key) {\n",
              "          const element = document.querySelector('#df-03a27ca1-95ec-4a9e-a27f-3843a2de7281');\n",
              "          const dataTable =\n",
              "            await google.colab.kernel.invokeFunction('convertToInteractive',\n",
              "                                                     [key], {});\n",
              "          if (!dataTable) return;\n",
              "\n",
              "          const docLinkHtml = 'Like what you see? Visit the ' +\n",
              "            '<a target=\"_blank\" href=https://colab.research.google.com/notebooks/data_table.ipynb>data table notebook</a>'\n",
              "            + ' to learn more about interactive tables.';\n",
              "          element.innerHTML = '';\n",
              "          dataTable['output_type'] = 'display_data';\n",
              "          await google.colab.output.renderOutput(dataTable, element);\n",
              "          const docLink = document.createElement('div');\n",
              "          docLink.innerHTML = docLinkHtml;\n",
              "          element.appendChild(docLink);\n",
              "        }\n",
              "      </script>\n",
              "    </div>\n",
              "  </div>\n",
              "  "
            ]
          },
          "metadata": {},
          "execution_count": 27
        }
      ]
    },
    {
      "cell_type": "code",
      "source": [
        "from sklearn.model_selection import train_test_split\n",
        "# help(train_test_split)"
      ],
      "metadata": {
        "id": "gHDcXuIze5On"
      },
      "execution_count": 28,
      "outputs": []
    },
    {
      "cell_type": "markdown",
      "source": [
        "Splitting the data into training and testing"
      ],
      "metadata": {
        "id": "UNB5fN_qftZT"
      }
    },
    {
      "cell_type": "code",
      "source": [
        "df_train, df_test = train_test_split(df_nad, \n",
        "                                     test_size=.1, \n",
        "                                     random_state=20220924,\n",
        "                                     )"
      ],
      "metadata": {
        "id": "0BUOLRkifJM1"
      },
      "execution_count": 29,
      "outputs": []
    },
    {
      "cell_type": "code",
      "source": [
        "!pip install pycountry\n",
        "!pip install address-formatter\n",
        "\n"
      ],
      "metadata": {
        "colab": {
          "base_uri": "https://localhost:8080/"
        },
        "id": "BHROyHWZrE-4",
        "outputId": "6c4ca125-33db-4b89-f4b2-30f5b4e75afd"
      },
      "execution_count": 30,
      "outputs": [
        {
          "output_type": "stream",
          "name": "stdout",
          "text": [
            "Looking in indexes: https://pypi.org/simple, https://us-python.pkg.dev/colab-wheels/public/simple/\n",
            "Requirement already satisfied: pycountry in /usr/local/lib/python3.7/dist-packages (22.3.5)\n",
            "Requirement already satisfied: setuptools in /usr/local/lib/python3.7/dist-packages (from pycountry) (57.4.0)\n",
            "Looking in indexes: https://pypi.org/simple, https://us-python.pkg.dev/colab-wheels/public/simple/\n",
            "Requirement already satisfied: address-formatter in /usr/local/lib/python3.7/dist-packages (0.1.2)\n",
            "Requirement already satisfied: pycountry>=16.10.23rc3 in /usr/local/lib/python3.7/dist-packages (from address-formatter) (22.3.5)\n",
            "Requirement already satisfied: setuptools in /usr/local/lib/python3.7/dist-packages (from pycountry>=16.10.23rc3->address-formatter) (57.4.0)\n"
          ]
        }
      ]
    },
    {
      "cell_type": "code",
      "source": [
        "headers_needed"
      ],
      "metadata": {
        "colab": {
          "base_uri": "https://localhost:8080/"
        },
        "id": "RX-w-FIY0eJu",
        "outputId": "5b7b11fc-30f2-4988-8f0f-29090add47dd"
      },
      "execution_count": 31,
      "outputs": [
        {
          "output_type": "execute_result",
          "data": {
            "text/plain": [
              "['State',\n",
              " 'County',\n",
              " 'Inc_Muni',\n",
              " 'Zip_Code',\n",
              " 'StN_PreDir',\n",
              " 'StreetName',\n",
              " 'StN_PosTyp',\n",
              " 'Add_Number',\n",
              " 'Building',\n",
              " 'Unit',\n",
              " 'NatGrid_Coord']"
            ]
          },
          "metadata": {},
          "execution_count": 31
        }
      ]
    },
    {
      "cell_type": "code",
      "source": [
        "import pycountry\n",
        "import address_formatter as formatter\n",
        "import random "
      ],
      "metadata": {
        "id": "By-CVcJq0Cr_"
      },
      "execution_count": 33,
      "outputs": []
    },
    {
      "cell_type": "code",
      "source": [
        "from address import Address2"
      ],
      "metadata": {
        "id": "-EwxeV8E9QZh"
      },
      "execution_count": 34,
      "outputs": []
    },
    {
      "cell_type": "code",
      "source": [
        "df_nad.iloc[1][headers_needed]"
      ],
      "metadata": {
        "colab": {
          "base_uri": "https://localhost:8080/"
        },
        "id": "_2iXuY0Y2RZL",
        "outputId": "20259a60-89eb-4c3e-f98e-1c77582e0f98"
      },
      "execution_count": 35,
      "outputs": [
        {
          "output_type": "execute_result",
          "data": {
            "text/plain": [
              "State                         CO\n",
              "County                     Adams\n",
              "Inc_Muni                BRIGHTON\n",
              "Zip_Code                   80601\n",
              "StN_PreDir                      \n",
              "StreetName               CABBAGE\n",
              "StN_PosTyp                Street\n",
              "Add_Number                    60\n",
              "Building                        \n",
              "Unit                            \n",
              "NatGrid_Coord    13SEE1528726184\n",
              "Name: 1, dtype: object"
            ]
          },
          "metadata": {},
          "execution_count": 35
        }
      ]
    },
    {
      "cell_type": "code",
      "source": [
        "# country_code,\n",
        "# name=None, \n",
        "# company_name=None,\n",
        "# street=None, \n",
        "# street2=None,\n",
        "# city=None, \n",
        "# county=None,\n",
        "# postal_code=None,\n",
        "# subdivision_code=None"
      ],
      "metadata": {
        "id": "I7wmrjZg2fuT"
      },
      "execution_count": 36,
      "outputs": []
    },
    {
      "cell_type": "code",
      "source": [
        "addr = formatter.Address(country_code='US', name='4595', street='N picadilly Ct', \n",
        "                         street2='',\n",
        "                         company_name='',\n",
        "                         postal_code='80019', city='aurora', county='adams', \n",
        "                         subdivision_code='Co')\n",
        "\n",
        "addr.render_us()"
      ],
      "metadata": {
        "colab": {
          "base_uri": "https://localhost:8080/"
        },
        "id": "sBrHK24l0KXU",
        "outputId": "3a4c1c1a-00f3-4f1e-b25e-97da96e0cb00"
      },
      "execution_count": 37,
      "outputs": [
        {
          "output_type": "execute_result",
          "data": {
            "text/plain": [
              "['4595', '', 'N picadilly Ct', 'aurora CO 80019', 'United States']"
            ]
          },
          "metadata": {},
          "execution_count": 37
        }
      ]
    },
    {
      "cell_type": "code",
      "source": [
        "from re import sub\n",
        "# tmp = formatter.Address(df_nad.iloc[1][headers_needed].to_list())\n",
        "# tmp.company_name\n",
        "def assign_right_order(df):\n",
        "  formatted = formatter.Address(country_code='US',\n",
        "                                 name='',\n",
        "                                 street=str(df['Add_Number']) +' ' + str(df['StN_PreDir']) +' ' + str(df['StreetName']) +' ' + str(df['StN_PosTyp']),\n",
        "                                 company_name=random.choices([\"WALMART\", \"PUBLIC\",\"SAM'S CLUB\", \"COSTCO\"])[0],\n",
        "                                 street2='',\n",
        "                                 city=df['Inc_Muni'],\n",
        "                                 county=df['County'],\n",
        "                                 postal_code=df['Zip_Code'],\n",
        "                                 subdivision_code=df['State']\n",
        "                                 ).render_us()\n",
        "  return formatted"
      ],
      "metadata": {
        "id": "fl0WemuL3GRG"
      },
      "execution_count": 40,
      "outputs": []
    },
    {
      "cell_type": "code",
      "source": [
        "fmt = Address2(country_code='US',\n",
        "            #  name=df['StreetName'],\n",
        "              street=str(df_train.iloc[0]['Add_Number']) +' ' + str(df_train.iloc[0]['StN_PreDir']) +' ' + str(df_train.iloc[0]['StreetName']) +' ' + str(df_train.iloc[0]['StN_PosTyp']),\n",
        "              company_name=random.choices([\"WALMART\", \"PUBLIC\",\"SAM'S CLUB\", \"COSTCO\"])[0],\n",
        "              street2='',\n",
        "              city=df_train.iloc[0]['Inc_Muni'],\n",
        "              county=df_train.iloc[0]['County'],\n",
        "              postal_code=df_train.iloc[0]['Zip_Code'],\n",
        "              subdivision_code=df_train.iloc[0]['State']\n",
        "              ).render_us()\n",
        "\n",
        "fmt"
      ],
      "metadata": {
        "colab": {
          "base_uri": "https://localhost:8080/"
        },
        "id": "ZHwd-uBR9ZSq",
        "outputId": "a51912cc-2c83-4334-d5a1-bf24a900c374"
      },
      "execution_count": 43,
      "outputs": [
        {
          "output_type": "execute_result",
          "data": {
            "text/plain": [
              "[\"SAM'S CLUB\", '8296 East Girard Avenue', 'Denver CO 80231', 'United States']"
            ]
          },
          "metadata": {},
          "execution_count": 43
        }
      ]
    },
    {
      "cell_type": "code",
      "source": [],
      "metadata": {
        "id": "9PcOmUnc9mU4"
      },
      "execution_count": 43,
      "outputs": []
    },
    {
      "cell_type": "code",
      "source": [
        "df = df_nad.loc[1,:]\n",
        "print(type(df))\n",
        "formatter.Address(country_code='US',\n",
        "                #  name=df['StreetName'],\n",
        "                  street=str(df['Add_Number']) +' ' + str(df['StN_PreDir']) +' ' + str(df['StreetName']) +' ' + str(df['StN_PosTyp']),\n",
        "                  company_name=random.choices([\"WALMART\", \"PUBLIC\",\"SAM'S CLUB\", \"COSTCO\"])[0],\n",
        "                  street2='',\n",
        "                  city=df['Inc_Muni'],\n",
        "                  county=df['County'],\n",
        "                  postal_code=df['Zip_Code'],\n",
        "                  subdivision_code=df['State']\n",
        "                  ).render_us()"
      ],
      "metadata": {
        "colab": {
          "base_uri": "https://localhost:8080/"
        },
        "id": "honbJp9tzTwy",
        "outputId": "2d8d5e6b-1e98-4427-9a87-6198081688a3"
      },
      "execution_count": 45,
      "outputs": [
        {
          "output_type": "stream",
          "name": "stdout",
          "text": [
            "<class 'pandas.core.series.Series'>\n"
          ]
        },
        {
          "output_type": "execute_result",
          "data": {
            "text/plain": [
              "[None, 'PUBLIC', '60  CABBAGE Street', 'BRIGHTON CO 80601', 'United States']"
            ]
          },
          "metadata": {},
          "execution_count": 45
        }
      ]
    },
    {
      "cell_type": "code",
      "source": [
        "test = assign_right_order(df_nad.iloc[0])\n",
        "test"
      ],
      "metadata": {
        "colab": {
          "base_uri": "https://localhost:8080/"
        },
        "id": "dgsz_oo89eNb",
        "outputId": "6ae77690-f28e-4837-bf3d-eb59fd80e668"
      },
      "execution_count": 46,
      "outputs": [
        {
          "output_type": "execute_result",
          "data": {
            "text/plain": [
              "['',\n",
              " 'COSTCO',\n",
              " '282 South Cabbage Avenue',\n",
              " 'BRIGHTON CO 80601',\n",
              " 'United States']"
            ]
          },
          "metadata": {},
          "execution_count": 46
        }
      ]
    },
    {
      "cell_type": "code",
      "source": [
        "# import requests\n",
        "\n",
        "# dd = requests.get(\"https://www.sec.gov/rules/other/4-460list.htm\")\n",
        "# dd.text"
      ],
      "metadata": {
        "id": "d2vum3N-x1Wq"
      },
      "execution_count": 47,
      "outputs": []
    },
    {
      "cell_type": "code",
      "source": [
        "df_companies = pd.read_html('https://www.sec.gov/rules/other/4-460list.htm')\n",
        "df_companies[0]"
      ],
      "metadata": {
        "colab": {
          "base_uri": "https://localhost:8080/",
          "height": 468
        },
        "id": "tp2oDkYvyOq4",
        "outputId": "3cb64325-56c3-43d4-9540-fe1eb5510852"
      },
      "execution_count": 48,
      "outputs": [
        {
          "output_type": "execute_result",
          "data": {
            "text/plain": [
              "                                                     0  \\\n",
              "0    List of Companies (Corrected) A | B | C | D | ...   \n",
              "1                                                  NaN   \n",
              "2                                                  NaN   \n",
              "3                                                  NaN   \n",
              "4                                                  NaN   \n",
              "..                                                 ...   \n",
              "943                                                NaN   \n",
              "944                                                NaN   \n",
              "945                                                NaN   \n",
              "946                                                NaN   \n",
              "947                                                NaN   \n",
              "\n",
              "                                                     1  \n",
              "0    List of Companies (Corrected) A | B | C | D | ...  \n",
              "1                                            3Com Corp  \n",
              "2                                           3M Company  \n",
              "3                                    A.G. Edwards Inc.  \n",
              "4                                  Abbott Laboratories  \n",
              "..                                                 ...  \n",
              "943                                 Yellow Corporation  \n",
              "944                            York International Corp  \n",
              "945                                    Yum Brands Inc.  \n",
              "946                                   Zale Corporation  \n",
              "947                               Zions Bancorporation  \n",
              "\n",
              "[948 rows x 2 columns]"
            ],
            "text/html": [
              "\n",
              "  <div id=\"df-26268666-f9e2-4c92-84cc-c3e740351d76\">\n",
              "    <div class=\"colab-df-container\">\n",
              "      <div>\n",
              "<style scoped>\n",
              "    .dataframe tbody tr th:only-of-type {\n",
              "        vertical-align: middle;\n",
              "    }\n",
              "\n",
              "    .dataframe tbody tr th {\n",
              "        vertical-align: top;\n",
              "    }\n",
              "\n",
              "    .dataframe thead th {\n",
              "        text-align: right;\n",
              "    }\n",
              "</style>\n",
              "<table border=\"1\" class=\"dataframe\">\n",
              "  <thead>\n",
              "    <tr style=\"text-align: right;\">\n",
              "      <th></th>\n",
              "      <th>0</th>\n",
              "      <th>1</th>\n",
              "    </tr>\n",
              "  </thead>\n",
              "  <tbody>\n",
              "    <tr>\n",
              "      <th>0</th>\n",
              "      <td>List of Companies (Corrected) A | B | C | D | ...</td>\n",
              "      <td>List of Companies (Corrected) A | B | C | D | ...</td>\n",
              "    </tr>\n",
              "    <tr>\n",
              "      <th>1</th>\n",
              "      <td>NaN</td>\n",
              "      <td>3Com Corp</td>\n",
              "    </tr>\n",
              "    <tr>\n",
              "      <th>2</th>\n",
              "      <td>NaN</td>\n",
              "      <td>3M Company</td>\n",
              "    </tr>\n",
              "    <tr>\n",
              "      <th>3</th>\n",
              "      <td>NaN</td>\n",
              "      <td>A.G. Edwards Inc.</td>\n",
              "    </tr>\n",
              "    <tr>\n",
              "      <th>4</th>\n",
              "      <td>NaN</td>\n",
              "      <td>Abbott Laboratories</td>\n",
              "    </tr>\n",
              "    <tr>\n",
              "      <th>...</th>\n",
              "      <td>...</td>\n",
              "      <td>...</td>\n",
              "    </tr>\n",
              "    <tr>\n",
              "      <th>943</th>\n",
              "      <td>NaN</td>\n",
              "      <td>Yellow Corporation</td>\n",
              "    </tr>\n",
              "    <tr>\n",
              "      <th>944</th>\n",
              "      <td>NaN</td>\n",
              "      <td>York International Corp</td>\n",
              "    </tr>\n",
              "    <tr>\n",
              "      <th>945</th>\n",
              "      <td>NaN</td>\n",
              "      <td>Yum Brands Inc.</td>\n",
              "    </tr>\n",
              "    <tr>\n",
              "      <th>946</th>\n",
              "      <td>NaN</td>\n",
              "      <td>Zale Corporation</td>\n",
              "    </tr>\n",
              "    <tr>\n",
              "      <th>947</th>\n",
              "      <td>NaN</td>\n",
              "      <td>Zions Bancorporation</td>\n",
              "    </tr>\n",
              "  </tbody>\n",
              "</table>\n",
              "<p>948 rows × 2 columns</p>\n",
              "</div>\n",
              "      <button class=\"colab-df-convert\" onclick=\"convertToInteractive('df-26268666-f9e2-4c92-84cc-c3e740351d76')\"\n",
              "              title=\"Convert this dataframe to an interactive table.\"\n",
              "              style=\"display:none;\">\n",
              "        \n",
              "  <svg xmlns=\"http://www.w3.org/2000/svg\" height=\"24px\"viewBox=\"0 0 24 24\"\n",
              "       width=\"24px\">\n",
              "    <path d=\"M0 0h24v24H0V0z\" fill=\"none\"/>\n",
              "    <path d=\"M18.56 5.44l.94 2.06.94-2.06 2.06-.94-2.06-.94-.94-2.06-.94 2.06-2.06.94zm-11 1L8.5 8.5l.94-2.06 2.06-.94-2.06-.94L8.5 2.5l-.94 2.06-2.06.94zm10 10l.94 2.06.94-2.06 2.06-.94-2.06-.94-.94-2.06-.94 2.06-2.06.94z\"/><path d=\"M17.41 7.96l-1.37-1.37c-.4-.4-.92-.59-1.43-.59-.52 0-1.04.2-1.43.59L10.3 9.45l-7.72 7.72c-.78.78-.78 2.05 0 2.83L4 21.41c.39.39.9.59 1.41.59.51 0 1.02-.2 1.41-.59l7.78-7.78 2.81-2.81c.8-.78.8-2.07 0-2.86zM5.41 20L4 18.59l7.72-7.72 1.47 1.35L5.41 20z\"/>\n",
              "  </svg>\n",
              "      </button>\n",
              "      \n",
              "  <style>\n",
              "    .colab-df-container {\n",
              "      display:flex;\n",
              "      flex-wrap:wrap;\n",
              "      gap: 12px;\n",
              "    }\n",
              "\n",
              "    .colab-df-convert {\n",
              "      background-color: #E8F0FE;\n",
              "      border: none;\n",
              "      border-radius: 50%;\n",
              "      cursor: pointer;\n",
              "      display: none;\n",
              "      fill: #1967D2;\n",
              "      height: 32px;\n",
              "      padding: 0 0 0 0;\n",
              "      width: 32px;\n",
              "    }\n",
              "\n",
              "    .colab-df-convert:hover {\n",
              "      background-color: #E2EBFA;\n",
              "      box-shadow: 0px 1px 2px rgba(60, 64, 67, 0.3), 0px 1px 3px 1px rgba(60, 64, 67, 0.15);\n",
              "      fill: #174EA6;\n",
              "    }\n",
              "\n",
              "    [theme=dark] .colab-df-convert {\n",
              "      background-color: #3B4455;\n",
              "      fill: #D2E3FC;\n",
              "    }\n",
              "\n",
              "    [theme=dark] .colab-df-convert:hover {\n",
              "      background-color: #434B5C;\n",
              "      box-shadow: 0px 1px 3px 1px rgba(0, 0, 0, 0.15);\n",
              "      filter: drop-shadow(0px 1px 2px rgba(0, 0, 0, 0.3));\n",
              "      fill: #FFFFFF;\n",
              "    }\n",
              "  </style>\n",
              "\n",
              "      <script>\n",
              "        const buttonEl =\n",
              "          document.querySelector('#df-26268666-f9e2-4c92-84cc-c3e740351d76 button.colab-df-convert');\n",
              "        buttonEl.style.display =\n",
              "          google.colab.kernel.accessAllowed ? 'block' : 'none';\n",
              "\n",
              "        async function convertToInteractive(key) {\n",
              "          const element = document.querySelector('#df-26268666-f9e2-4c92-84cc-c3e740351d76');\n",
              "          const dataTable =\n",
              "            await google.colab.kernel.invokeFunction('convertToInteractive',\n",
              "                                                     [key], {});\n",
              "          if (!dataTable) return;\n",
              "\n",
              "          const docLinkHtml = 'Like what you see? Visit the ' +\n",
              "            '<a target=\"_blank\" href=https://colab.research.google.com/notebooks/data_table.ipynb>data table notebook</a>'\n",
              "            + ' to learn more about interactive tables.';\n",
              "          element.innerHTML = '';\n",
              "          dataTable['output_type'] = 'display_data';\n",
              "          await google.colab.output.renderOutput(dataTable, element);\n",
              "          const docLink = document.createElement('div');\n",
              "          docLink.innerHTML = docLinkHtml;\n",
              "          element.appendChild(docLink);\n",
              "        }\n",
              "      </script>\n",
              "    </div>\n",
              "  </div>\n",
              "  "
            ]
          },
          "metadata": {},
          "execution_count": 48
        }
      ]
    },
    {
      "cell_type": "code",
      "source": [
        "df_companies[1]"
      ],
      "metadata": {
        "colab": {
          "base_uri": "https://localhost:8080/",
          "height": 81
        },
        "id": "Czj7oxhvywFJ",
        "outputId": "4f7f5bc2-6e07-44df-d913-68221d8f483b"
      },
      "execution_count": 49,
      "outputs": [
        {
          "output_type": "execute_result",
          "data": {
            "text/plain": [
              "                      0                     1\n",
              "0  Home | Previous Page  Modified: 07/02/2002"
            ],
            "text/html": [
              "\n",
              "  <div id=\"df-910fbb54-abff-4dea-980f-637bcadd2e96\">\n",
              "    <div class=\"colab-df-container\">\n",
              "      <div>\n",
              "<style scoped>\n",
              "    .dataframe tbody tr th:only-of-type {\n",
              "        vertical-align: middle;\n",
              "    }\n",
              "\n",
              "    .dataframe tbody tr th {\n",
              "        vertical-align: top;\n",
              "    }\n",
              "\n",
              "    .dataframe thead th {\n",
              "        text-align: right;\n",
              "    }\n",
              "</style>\n",
              "<table border=\"1\" class=\"dataframe\">\n",
              "  <thead>\n",
              "    <tr style=\"text-align: right;\">\n",
              "      <th></th>\n",
              "      <th>0</th>\n",
              "      <th>1</th>\n",
              "    </tr>\n",
              "  </thead>\n",
              "  <tbody>\n",
              "    <tr>\n",
              "      <th>0</th>\n",
              "      <td>Home | Previous Page</td>\n",
              "      <td>Modified: 07/02/2002</td>\n",
              "    </tr>\n",
              "  </tbody>\n",
              "</table>\n",
              "</div>\n",
              "      <button class=\"colab-df-convert\" onclick=\"convertToInteractive('df-910fbb54-abff-4dea-980f-637bcadd2e96')\"\n",
              "              title=\"Convert this dataframe to an interactive table.\"\n",
              "              style=\"display:none;\">\n",
              "        \n",
              "  <svg xmlns=\"http://www.w3.org/2000/svg\" height=\"24px\"viewBox=\"0 0 24 24\"\n",
              "       width=\"24px\">\n",
              "    <path d=\"M0 0h24v24H0V0z\" fill=\"none\"/>\n",
              "    <path d=\"M18.56 5.44l.94 2.06.94-2.06 2.06-.94-2.06-.94-.94-2.06-.94 2.06-2.06.94zm-11 1L8.5 8.5l.94-2.06 2.06-.94-2.06-.94L8.5 2.5l-.94 2.06-2.06.94zm10 10l.94 2.06.94-2.06 2.06-.94-2.06-.94-.94-2.06-.94 2.06-2.06.94z\"/><path d=\"M17.41 7.96l-1.37-1.37c-.4-.4-.92-.59-1.43-.59-.52 0-1.04.2-1.43.59L10.3 9.45l-7.72 7.72c-.78.78-.78 2.05 0 2.83L4 21.41c.39.39.9.59 1.41.59.51 0 1.02-.2 1.41-.59l7.78-7.78 2.81-2.81c.8-.78.8-2.07 0-2.86zM5.41 20L4 18.59l7.72-7.72 1.47 1.35L5.41 20z\"/>\n",
              "  </svg>\n",
              "      </button>\n",
              "      \n",
              "  <style>\n",
              "    .colab-df-container {\n",
              "      display:flex;\n",
              "      flex-wrap:wrap;\n",
              "      gap: 12px;\n",
              "    }\n",
              "\n",
              "    .colab-df-convert {\n",
              "      background-color: #E8F0FE;\n",
              "      border: none;\n",
              "      border-radius: 50%;\n",
              "      cursor: pointer;\n",
              "      display: none;\n",
              "      fill: #1967D2;\n",
              "      height: 32px;\n",
              "      padding: 0 0 0 0;\n",
              "      width: 32px;\n",
              "    }\n",
              "\n",
              "    .colab-df-convert:hover {\n",
              "      background-color: #E2EBFA;\n",
              "      box-shadow: 0px 1px 2px rgba(60, 64, 67, 0.3), 0px 1px 3px 1px rgba(60, 64, 67, 0.15);\n",
              "      fill: #174EA6;\n",
              "    }\n",
              "\n",
              "    [theme=dark] .colab-df-convert {\n",
              "      background-color: #3B4455;\n",
              "      fill: #D2E3FC;\n",
              "    }\n",
              "\n",
              "    [theme=dark] .colab-df-convert:hover {\n",
              "      background-color: #434B5C;\n",
              "      box-shadow: 0px 1px 3px 1px rgba(0, 0, 0, 0.15);\n",
              "      filter: drop-shadow(0px 1px 2px rgba(0, 0, 0, 0.3));\n",
              "      fill: #FFFFFF;\n",
              "    }\n",
              "  </style>\n",
              "\n",
              "      <script>\n",
              "        const buttonEl =\n",
              "          document.querySelector('#df-910fbb54-abff-4dea-980f-637bcadd2e96 button.colab-df-convert');\n",
              "        buttonEl.style.display =\n",
              "          google.colab.kernel.accessAllowed ? 'block' : 'none';\n",
              "\n",
              "        async function convertToInteractive(key) {\n",
              "          const element = document.querySelector('#df-910fbb54-abff-4dea-980f-637bcadd2e96');\n",
              "          const dataTable =\n",
              "            await google.colab.kernel.invokeFunction('convertToInteractive',\n",
              "                                                     [key], {});\n",
              "          if (!dataTable) return;\n",
              "\n",
              "          const docLinkHtml = 'Like what you see? Visit the ' +\n",
              "            '<a target=\"_blank\" href=https://colab.research.google.com/notebooks/data_table.ipynb>data table notebook</a>'\n",
              "            + ' to learn more about interactive tables.';\n",
              "          element.innerHTML = '';\n",
              "          dataTable['output_type'] = 'display_data';\n",
              "          await google.colab.output.renderOutput(dataTable, element);\n",
              "          const docLink = document.createElement('div');\n",
              "          docLink.innerHTML = docLinkHtml;\n",
              "          element.appendChild(docLink);\n",
              "        }\n",
              "      </script>\n",
              "    </div>\n",
              "  </div>\n",
              "  "
            ]
          },
          "metadata": {},
          "execution_count": 49
        }
      ]
    },
    {
      "cell_type": "code",
      "source": [
        "# Store values in a dataframe column (Series object) to files, one file per record\n",
        "import os\n",
        "from tqdm import tqdm\n",
        "def column_to_files(data, columns, index_column, txt_files_dir):\n",
        "    # The prefix is a unique ID to avoid to overwrite a text file\n",
        "    i=0\n",
        "    #For every value in the df, with just one column\n",
        "    for idx in tqdm(data.index):#[columns].to_list():\n",
        "      # Create the filename using the prefix ID\n",
        "      id = str(data.loc[idx, index_column])\n",
        "      file_name = os.path.join(txt_files_dir, id+'.txt')\n",
        "      try:\n",
        "        # Create the file and write the column text to it\n",
        "        f = open(file_name, 'wb')\n",
        "        \n",
        "        # print(f\"filename :{file_name} ===> id: {id}\")\n",
        "        # row1 = data.loc[idx, columns].replace(',', '').encode('utf-8')\n",
        "\n",
        "        # print(f\"file to be written: \\n{row1}\")\n",
        "        row2 = ' '.join(assign_right_order(data.loc[idx, headers_needed])).encode('utf-8')\n",
        "        f.write(row2)\n",
        "        # print(f\"file to be written 2: \\n{row2}\")\n",
        "        f.close()\n",
        "      except Exception as e:  #catch exceptions(for eg. empty rows)\n",
        "        print(idx, e) \n",
        "      # print(i)\n",
        "      # i+=1\n",
        "      \n",
        "    # Retur\n",
        "\n"
      ],
      "metadata": {
        "id": "wHR5YFhrdYIh"
      },
      "execution_count": 69,
      "outputs": []
    },
    {
      "cell_type": "code",
      "source": [
        "' '.join(assign_right_order(df_train.loc[0,headers_needed]))"
      ],
      "metadata": {
        "colab": {
          "base_uri": "https://localhost:8080/",
          "height": 35
        },
        "id": "jWh5TUIB4HYS",
        "outputId": "4d9e2f6f-f609-4000-ace8-c819e3f30959"
      },
      "execution_count": 70,
      "outputs": [
        {
          "output_type": "execute_result",
          "data": {
            "text/plain": [
              "' WALMART 282 South Cabbage Avenue BRIGHTON CO 80601 United States'"
            ],
            "application/vnd.google.colaboratory.intrinsic+json": {
              "type": "string"
            }
          },
          "metadata": {},
          "execution_count": 70
        }
      ]
    },
    {
      "cell_type": "code",
      "source": [
        "# from pyparsing.helpers import col\n",
        "!mkdir training\n",
        "column_to_files(df_train, columns='combined', index_column='NatGrid_Coord', txt_files_dir='training')\n",
        "# df_train.loc[0, 'combined'].replace(',', '').encode('utf-8')"
      ],
      "metadata": {
        "colab": {
          "base_uri": "https://localhost:8080/"
        },
        "id": "KhL8bc5kpTlf",
        "outputId": "f3e33029-c71d-40f7-982a-8e29b75815f4"
      },
      "execution_count": 71,
      "outputs": [
        {
          "output_type": "stream",
          "name": "stderr",
          "text": [
            "100%|██████████| 900000/900000 [12:12<00:00, 1228.85it/s]\n"
          ]
        }
      ]
    },
    {
      "cell_type": "code",
      "source": [
        "\n",
        "!mkdir testing\n",
        "column_to_files(df_test, columns='combined', index_column='NatGrid_Coord', txt_files_dir='testing')\n"
      ],
      "metadata": {
        "colab": {
          "base_uri": "https://localhost:8080/"
        },
        "id": "V1_o4nHXW1-6",
        "outputId": "f938988a-0dd2-4000-f071-bc1593cafcee"
      },
      "execution_count": 72,
      "outputs": [
        {
          "output_type": "stream",
          "name": "stderr",
          "text": [
            "100%|██████████| 100000/100000 [01:18<00:00, 1280.49it/s]\n"
          ]
        }
      ]
    },
    {
      "cell_type": "code",
      "source": [
        "# # Get the training data\n",
        "# data = df_train\n",
        "# # Removing the end of line character \\n\n",
        "# data = data.replace(\"\\n\",\" \")\n",
        "# # Set the ID to 0\n",
        "# prefix=0\n",
        "# # Create a file for every description value\n",
        "# prefix = column_to_files(data, prefix, txt_files_dir='training')\n",
        "# # Print the last ID\n",
        "# print(prefix)\n",
        "# # Get the test data\n",
        "# data = test_df[\"description\"]\n",
        "# # Removing the end of line character \\n\n",
        "# data = data.replace(\"\\n\",\" \")\n",
        "# print(len(data))\n",
        "# # Create a file for every description value\n",
        "# prefix = column_to_files(data, prefix, txt_files_dir)\n",
        "# print(prefix)"
      ],
      "metadata": {
        "id": "m5085HeLgirZ"
      },
      "execution_count": 73,
      "outputs": []
    },
    {
      "cell_type": "markdown",
      "metadata": {
        "id": "G-kkz81OY6xH"
      },
      "source": [
        "## 2. Train a tokenizer\n",
        "\n",
        "We choose to train a byte-level Byte-pair encoding tokenizer (the same as GPT-2), with the same special tokens as RoBERTa. Let’s arbitrarily pick its size to be 52,000.\n",
        "\n",
        "We recommend training a byte-level BPE (rather than let’s say, a WordPiece tokenizer like BERT) because it will start building its vocabulary from an alphabet of single bytes, so all words will be decomposable into tokens (no more `<unk>` tokens!).\n"
      ]
    },
    {
      "cell_type": "code",
      "metadata": {
        "id": "5duRggBRZKvP",
        "colab": {
          "base_uri": "https://localhost:8080/"
        },
        "outputId": "5c863ea1-6f89-46b1-8e11-23e93e6e7ca6"
      },
      "source": [
        "# We won't need TensorFlow here\n",
        "!pip uninstall -y tensorflow\n",
        "# Install `transformers` from master\n",
        "!pip install git+https://github.com/huggingface/transformers\n",
        "!pip list | grep -E 'transformers|tokenizers'\n",
        "# transformers version at notebook update --- 2.11.0\n",
        "# tokenizers version at notebook update --- 0.8.0rc1"
      ],
      "execution_count": 74,
      "outputs": [
        {
          "output_type": "stream",
          "name": "stdout",
          "text": [
            "Found existing installation: tensorflow 2.8.2+zzzcolab20220719082949\n",
            "Uninstalling tensorflow-2.8.2+zzzcolab20220719082949:\n",
            "  Successfully uninstalled tensorflow-2.8.2+zzzcolab20220719082949\n",
            "Looking in indexes: https://pypi.org/simple, https://us-python.pkg.dev/colab-wheels/public/simple/\n",
            "Collecting git+https://github.com/huggingface/transformers\n",
            "  Cloning https://github.com/huggingface/transformers to /tmp/pip-req-build-c_ff7645\n",
            "  Running command git clone -q https://github.com/huggingface/transformers /tmp/pip-req-build-c_ff7645\n",
            "  Installing build dependencies ... \u001b[?25l\u001b[?25hdone\n",
            "  Getting requirements to build wheel ... \u001b[?25l\u001b[?25hdone\n",
            "    Preparing wheel metadata ... \u001b[?25l\u001b[?25hdone\n",
            "Requirement already satisfied: pyyaml>=5.1 in /usr/local/lib/python3.7/dist-packages (from transformers==4.23.0.dev0) (6.0)\n",
            "Requirement already satisfied: packaging>=20.0 in /usr/local/lib/python3.7/dist-packages (from transformers==4.23.0.dev0) (21.3)\n",
            "Requirement already satisfied: regex!=2019.12.17 in /usr/local/lib/python3.7/dist-packages (from transformers==4.23.0.dev0) (2022.6.2)\n",
            "Collecting huggingface-hub<1.0,>=0.9.0\n",
            "  Downloading huggingface_hub-0.9.1-py3-none-any.whl (120 kB)\n",
            "\u001b[K     |████████████████████████████████| 120 kB 2.1 MB/s \n",
            "\u001b[?25hCollecting tokenizers!=0.11.3,<0.14,>=0.11.1\n",
            "  Downloading tokenizers-0.13.0-cp37-cp37m-manylinux_2_12_x86_64.manylinux2010_x86_64.whl (7.0 MB)\n",
            "\u001b[K     |████████████████████████████████| 7.0 MB 13.1 MB/s \n",
            "\u001b[?25hRequirement already satisfied: requests in /usr/local/lib/python3.7/dist-packages (from transformers==4.23.0.dev0) (2.23.0)\n",
            "Requirement already satisfied: tqdm>=4.27 in /usr/local/lib/python3.7/dist-packages (from transformers==4.23.0.dev0) (4.64.1)\n",
            "Requirement already satisfied: numpy>=1.17 in /usr/local/lib/python3.7/dist-packages (from transformers==4.23.0.dev0) (1.21.6)\n",
            "Requirement already satisfied: filelock in /usr/local/lib/python3.7/dist-packages (from transformers==4.23.0.dev0) (3.8.0)\n",
            "Requirement already satisfied: importlib-metadata in /usr/local/lib/python3.7/dist-packages (from transformers==4.23.0.dev0) (4.12.0)\n",
            "Requirement already satisfied: typing-extensions>=3.7.4.3 in /usr/local/lib/python3.7/dist-packages (from huggingface-hub<1.0,>=0.9.0->transformers==4.23.0.dev0) (4.1.1)\n",
            "Requirement already satisfied: pyparsing!=3.0.5,>=2.0.2 in /usr/local/lib/python3.7/dist-packages (from packaging>=20.0->transformers==4.23.0.dev0) (3.0.9)\n",
            "Requirement already satisfied: zipp>=0.5 in /usr/local/lib/python3.7/dist-packages (from importlib-metadata->transformers==4.23.0.dev0) (3.8.1)\n",
            "Requirement already satisfied: chardet<4,>=3.0.2 in /usr/local/lib/python3.7/dist-packages (from requests->transformers==4.23.0.dev0) (3.0.4)\n",
            "Requirement already satisfied: certifi>=2017.4.17 in /usr/local/lib/python3.7/dist-packages (from requests->transformers==4.23.0.dev0) (2022.6.15)\n",
            "Requirement already satisfied: urllib3!=1.25.0,!=1.25.1,<1.26,>=1.21.1 in /usr/local/lib/python3.7/dist-packages (from requests->transformers==4.23.0.dev0) (1.24.3)\n",
            "Requirement already satisfied: idna<3,>=2.5 in /usr/local/lib/python3.7/dist-packages (from requests->transformers==4.23.0.dev0) (2.10)\n",
            "Building wheels for collected packages: transformers\n",
            "  Building wheel for transformers (PEP 517) ... \u001b[?25l\u001b[?25hdone\n",
            "  Created wheel for transformers: filename=transformers-4.23.0.dev0-py3-none-any.whl size=4993419 sha256=d7ab92965d31162ba6a24ddf55331574e8dbc67dba2c9def05920c279fac9b82\n",
            "  Stored in directory: /tmp/pip-ephem-wheel-cache-76yl9vzo/wheels/35/2e/a7/d819e3310040329f0f47e57c9e3e7a7338aa5e74c49acfe522\n",
            "Successfully built transformers\n",
            "Installing collected packages: tokenizers, huggingface-hub, transformers\n",
            "Successfully installed huggingface-hub-0.9.1 tokenizers-0.13.0 transformers-4.23.0.dev0\n",
            "tokenizers                    0.13.0\n",
            "transformers                  4.23.0.dev0\n"
          ]
        }
      ]
    },
    {
      "cell_type": "code",
      "metadata": {
        "id": "IMnymRDLe0hi",
        "outputId": "6675cd4f-7a7b-4657-f59a-dac2e11ce4bf",
        "colab": {
          "base_uri": "https://localhost:8080/"
        }
      },
      "source": [
        "%%time \n",
        "from pathlib import Path\n",
        "\n",
        "from tokenizers import ByteLevelBPETokenizer\n",
        "\n",
        "paths = [str(x) for x in Path(\"training\").glob(\"**/*.txt\")]\n",
        "\n",
        "# Initialize a tokenizer\n",
        "tokenizer = ByteLevelBPETokenizer()\n",
        "\n",
        "# Customize training\n",
        "tokenizer.train(files=paths, vocab_size=52_000, min_frequency=2, special_tokens=[\n",
        "    \"<s>\",\n",
        "    \"<pad>\",\n",
        "    \"</s>\",\n",
        "    \"<unk>\",\n",
        "    \"<mask>\",\n",
        "])"
      ],
      "execution_count": 75,
      "outputs": [
        {
          "output_type": "stream",
          "name": "stdout",
          "text": [
            "CPU times: user 51.2 s, sys: 1min 26s, total: 2min 17s\n",
            "Wall time: 48.1 s\n"
          ]
        }
      ]
    },
    {
      "cell_type": "markdown",
      "metadata": {
        "id": "6Ei7bqpRf1LH"
      },
      "source": [
        "Now let's save files to disk"
      ]
    },
    {
      "cell_type": "code",
      "metadata": {
        "id": "EIS-irI0f32P",
        "outputId": "03eb8aae-03e3-4283-b857-b6704094687e",
        "colab": {
          "base_uri": "https://localhost:8080/"
        }
      },
      "source": [
        "!mkdir AddressBERTa\n",
        "tokenizer.save_model(\"AddressBERTa\")"
      ],
      "execution_count": 76,
      "outputs": [
        {
          "output_type": "execute_result",
          "data": {
            "text/plain": [
              "['AddressBERTa/vocab.json', 'AddressBERTa/merges.txt']"
            ]
          },
          "metadata": {},
          "execution_count": 76
        }
      ]
    },
    {
      "cell_type": "markdown",
      "metadata": {
        "id": "lOOfYSuQhSqT"
      },
      "source": [
        "🔥🔥 Wow, that was fast! ⚡️🔥\n",
        "\n",
        "We now have both a `vocab.json`, which is a list of the most frequent tokens ranked by frequency, and a `merges.txt` list of merges.\n",
        "\n",
        "```json\n",
        "{\n",
        "\t\"<s>\": 0,\n",
        "\t\"<pad>\": 1,\n",
        "\t\"</s>\": 2,\n",
        "\t\"<unk>\": 3,\n",
        "\t\"<mask>\": 4,\n",
        "\t\"!\": 5,\n",
        "\t\"\\\"\": 6,\n",
        "\t\"#\": 7,\n",
        "\t\"$\": 8,\n",
        "\t\"%\": 9,\n",
        "\t\"&\": 10,\n",
        "\t\"'\": 11,\n",
        "\t\"(\": 12,\n",
        "\t\")\": 13,\n",
        "\t# ...\n",
        "}\n",
        "\n",
        "# merges.txt\n",
        "l a\n",
        "Ġ k\n",
        "o n\n",
        "Ġ la\n",
        "t a\n",
        "Ġ e\n",
        "Ġ d\n",
        "Ġ p\n",
        "# ...\n",
        "```\n",
        "\n",
        "What is great is that our tokenizer is optimized for Esperanto. Compared to a generic tokenizer trained for English, more native words are represented by a single, unsplit token. Diacritics, i.e. accented characters used in Esperanto – `ĉ`, `ĝ`, `ĥ`, `ĵ`, `ŝ`, and `ŭ` – are encoded natively. We also represent sequences in a more efficient manner. Here on this corpus, the average length of encoded sequences is ~30% smaller as when using the pretrained GPT-2 tokenizer.\n",
        "\n",
        "Here’s  how you can use it in `tokenizers`, including handling the RoBERTa special tokens – of course, you’ll also be able to use it directly from `transformers`.\n"
      ]
    },
    {
      "cell_type": "code",
      "metadata": {
        "id": "tKVWB8WShT-z"
      },
      "source": [
        "from tokenizers.implementations import ByteLevelBPETokenizer\n",
        "from tokenizers.processors import BertProcessing\n",
        "\n",
        "\n",
        "tokenizer = ByteLevelBPETokenizer(\n",
        "    \"./AddressBERTa/vocab.json\",\n",
        "    \"./AddressBERTa/merges.txt\",\n",
        ")"
      ],
      "execution_count": 77,
      "outputs": []
    },
    {
      "cell_type": "code",
      "metadata": {
        "id": "hO5M3vrAhcuj"
      },
      "source": [
        "tokenizer._tokenizer.post_processor = BertProcessing(\n",
        "    (\"</s>\", tokenizer.token_to_id(\"</s>\")),\n",
        "    (\"<s>\", tokenizer.token_to_id(\"<s>\")),\n",
        ")\n",
        "tokenizer.enable_truncation(max_length=512)"
      ],
      "execution_count": 78,
      "outputs": []
    },
    {
      "cell_type": "code",
      "metadata": {
        "id": "E3Ye27nchfzq",
        "outputId": "1539290a-901a-47df-b073-9209b3948b7d",
        "colab": {
          "base_uri": "https://localhost:8080/"
        }
      },
      "source": [
        "tokenizer.encode(\"4595 N Picadilly ct aurora co\")"
      ],
      "execution_count": 79,
      "outputs": [
        {
          "output_type": "execute_result",
          "data": {
            "text/plain": [
              "Encoding(num_tokens=14, attributes=[ids, type_ids, tokens, offsets, attention_mask, special_tokens_mask, overflowing])"
            ]
          },
          "metadata": {},
          "execution_count": 79
        }
      ]
    },
    {
      "cell_type": "code",
      "metadata": {
        "id": "X8ya5_7rhjKS",
        "outputId": "1de31a17-da17-404d-fc63-55a18814004d",
        "colab": {
          "base_uri": "https://localhost:8080/"
        }
      },
      "source": [
        "tokenizer.encode(\"4595 N Picadilly ct aurora co\").tokens"
      ],
      "execution_count": 80,
      "outputs": [
        {
          "output_type": "execute_result",
          "data": {
            "text/plain": [
              "['<s>',\n",
              " '45',\n",
              " '95',\n",
              " 'ĠN',\n",
              " 'ĠPicadilly',\n",
              " 'Ġ',\n",
              " 'ct',\n",
              " 'Ġ',\n",
              " 'a',\n",
              " 'ur',\n",
              " 'ora',\n",
              " 'Ġ',\n",
              " 'co',\n",
              " '</s>']"
            ]
          },
          "metadata": {},
          "execution_count": 80
        }
      ]
    },
    {
      "cell_type": "markdown",
      "metadata": {
        "id": "WQpUC_CDhnWW"
      },
      "source": [
        "## 3. Train a language model from scratch\n",
        "\n",
        "**Update:** This section follows along the [`run_language_modeling.py`](https://github.com/huggingface/transformers/blob/master/examples/legacy/run_language_modeling.py) script, using our new [`Trainer`](https://github.com/huggingface/transformers/blob/master/src/transformers/trainer.py) directly. Feel free to pick the approach you like best.\n",
        "\n",
        "> We’ll train a RoBERTa-like model, which is a BERT-like with a couple of changes (check the [documentation](https://huggingface.co/transformers/model_doc/roberta.html) for more details).\n",
        "\n",
        "As the model is BERT-like, we’ll train it on a task of *Masked language modeling*, i.e. the predict how to fill arbitrary tokens that we randomly mask in the dataset. This is taken care of by the example script.\n"
      ]
    },
    {
      "cell_type": "code",
      "metadata": {
        "id": "kD140sFjh0LQ",
        "outputId": "7c94f0d7-d548-4972-8396-310c88974973",
        "colab": {
          "base_uri": "https://localhost:8080/"
        }
      },
      "source": [
        "# Check that we have a GPU\n",
        "!nvidia-smi"
      ],
      "execution_count": 81,
      "outputs": [
        {
          "output_type": "stream",
          "name": "stdout",
          "text": [
            "Mon Sep 26 06:01:15 2022       \n",
            "+-----------------------------------------------------------------------------+\n",
            "| NVIDIA-SMI 460.32.03    Driver Version: 460.32.03    CUDA Version: 11.2     |\n",
            "|-------------------------------+----------------------+----------------------+\n",
            "| GPU  Name        Persistence-M| Bus-Id        Disp.A | Volatile Uncorr. ECC |\n",
            "| Fan  Temp  Perf  Pwr:Usage/Cap|         Memory-Usage | GPU-Util  Compute M. |\n",
            "|                               |                      |               MIG M. |\n",
            "|===============================+======================+======================|\n",
            "|   0  Tesla T4            Off  | 00000000:00:04.0 Off |                    0 |\n",
            "| N/A   42C    P8     9W /  70W |      3MiB / 15109MiB |      0%      Default |\n",
            "|                               |                      |                  N/A |\n",
            "+-------------------------------+----------------------+----------------------+\n",
            "                                                                               \n",
            "+-----------------------------------------------------------------------------+\n",
            "| Processes:                                                                  |\n",
            "|  GPU   GI   CI        PID   Type   Process name                  GPU Memory |\n",
            "|        ID   ID                                                   Usage      |\n",
            "|=============================================================================|\n",
            "|  No running processes found                                                 |\n",
            "+-----------------------------------------------------------------------------+\n"
          ]
        }
      ]
    },
    {
      "cell_type": "code",
      "metadata": {
        "id": "VNZZs-r6iKAV",
        "outputId": "085db289-c04d-4d22-f823-a288161499bd",
        "colab": {
          "base_uri": "https://localhost:8080/"
        }
      },
      "source": [
        "# Check that PyTorch sees it\n",
        "import torch\n",
        "torch.cuda.is_available()"
      ],
      "execution_count": 82,
      "outputs": [
        {
          "output_type": "execute_result",
          "data": {
            "text/plain": [
              "True"
            ]
          },
          "metadata": {},
          "execution_count": 82
        }
      ]
    },
    {
      "cell_type": "markdown",
      "metadata": {
        "id": "u0qQzgrBi1OX"
      },
      "source": [
        "### We'll define the following config for the model"
      ]
    },
    {
      "cell_type": "code",
      "metadata": {
        "id": "LTXXutqeDzPi"
      },
      "source": [
        "from transformers import RobertaConfig\n",
        "\n",
        "config = RobertaConfig(\n",
        "    vocab_size=52_000,\n",
        "    max_position_embeddings=514,\n",
        "    num_attention_heads=12,\n",
        "    num_hidden_layers=6,\n",
        "    type_vocab_size=1,\n",
        ")"
      ],
      "execution_count": 83,
      "outputs": []
    },
    {
      "cell_type": "markdown",
      "metadata": {
        "id": "yAwQ82JiE5pi"
      },
      "source": [
        "Now let's re-create our tokenizer in transformers"
      ]
    },
    {
      "cell_type": "code",
      "metadata": {
        "id": "4keFBUjQFOD1"
      },
      "source": [
        "from transformers import RobertaTokenizerFast\n",
        "\n",
        "tokenizer = RobertaTokenizerFast.from_pretrained(\"./AddressBERTa\", max_len=512)"
      ],
      "execution_count": 84,
      "outputs": []
    },
    {
      "cell_type": "markdown",
      "metadata": {
        "id": "6yNCw-3hFv9h"
      },
      "source": [
        "Finally let's initialize our model.\n",
        "\n",
        "**Important:**\n",
        "\n",
        "As we are training from scratch, we only initialize from a config, not from an existing pretrained model or checkpoint."
      ]
    },
    {
      "cell_type": "code",
      "metadata": {
        "id": "BzMqR-dzF4Ro"
      },
      "source": [
        "from transformers import RobertaForMaskedLM\n",
        "\n",
        "model = RobertaForMaskedLM(config=config)"
      ],
      "execution_count": 85,
      "outputs": []
    },
    {
      "cell_type": "code",
      "metadata": {
        "id": "jU6JhBSTKiaM",
        "outputId": "ab786132-4e9c-4c45-9a86-eadfcb767624",
        "colab": {
          "base_uri": "https://localhost:8080/"
        }
      },
      "source": [
        "model.num_parameters()\n",
        "# => 84 million parameters"
      ],
      "execution_count": 86,
      "outputs": [
        {
          "output_type": "execute_result",
          "data": {
            "text/plain": [
              "83504416"
            ]
          },
          "metadata": {},
          "execution_count": 86
        }
      ]
    },
    {
      "cell_type": "markdown",
      "metadata": {
        "id": "jBtUHRMliOLM"
      },
      "source": [
        "### Now let's build our training Dataset\n",
        "\n",
        "We'll build our dataset by applying our tokenizer to our text file.\n",
        "\n",
        "Here, as we only have one text file, we don't even need to customize our `Dataset`. We'll just use the `LineByLineDataset` out-of-the-box."
      ]
    },
    {
      "cell_type": "code",
      "source": [
        "## Need to create the Line by line dataset"
      ],
      "metadata": {
        "id": "GxJ7Ep82ZBuZ"
      },
      "execution_count": null,
      "outputs": []
    },
    {
      "cell_type": "code",
      "metadata": {
        "id": "GlvP_A-THEEl",
        "outputId": "e0510a33-7937-4a04-fa1c-d4e20b758bb2",
        "colab": {
          "base_uri": "https://localhost:8080/",
          "height": 52
        }
      },
      "source": [
        "%%time\n",
        "from transformers import LineByLineTextDataset\n",
        "\n",
        "dataset = LineByLineTextDataset(\n",
        "    tokenizer=tokenizer,\n",
        "    file_path=\"./oscar.eo.txt\",\n",
        "    block_size=128,\n",
        ")"
      ],
      "execution_count": null,
      "outputs": [
        {
          "output_type": "stream",
          "text": [
            "CPU times: user 4min 54s, sys: 2.98 s, total: 4min 57s\n",
            "Wall time: 1min 37s\n"
          ],
          "name": "stdout"
        }
      ]
    },
    {
      "cell_type": "markdown",
      "metadata": {
        "id": "hDLs73HcIHk5"
      },
      "source": [
        "Like in the [`run_language_modeling.py`](https://github.com/huggingface/transformers/blob/master/examples/language-modeling/run_language_modeling.py) script, we need to define a data_collator.\n",
        "\n",
        "This is just a small helper that will help us batch different samples of the dataset together into an object that PyTorch knows how to perform backprop on."
      ]
    },
    {
      "cell_type": "code",
      "metadata": {
        "id": "zTgWPa9Dipk2"
      },
      "source": [
        "from transformers import DataCollatorForLanguageModeling\n",
        "\n",
        "data_collator = DataCollatorForLanguageModeling(\n",
        "    tokenizer=tokenizer, mlm=True, mlm_probability=0.15\n",
        ")"
      ],
      "execution_count": null,
      "outputs": []
    },
    {
      "cell_type": "markdown",
      "metadata": {
        "id": "ri2BIQKqjfHm"
      },
      "source": [
        "### Finally, we are all set to initialize our Trainer"
      ]
    },
    {
      "cell_type": "code",
      "metadata": {
        "id": "YpvnFFmZJD-N"
      },
      "source": [
        "from transformers import Trainer, TrainingArguments\n",
        "\n",
        "training_args = TrainingArguments(\n",
        "    output_dir=\"./AddressBERTa\",\n",
        "    overwrite_output_dir=True,\n",
        "    num_train_epochs=1,\n",
        "    per_gpu_train_batch_size=64,\n",
        "    save_steps=10_000,\n",
        "    save_total_limit=2,\n",
        "    prediction_loss_only=True,\n",
        ")\n",
        "\n",
        "trainer = Trainer(\n",
        "    model=model,\n",
        "    args=training_args,\n",
        "    data_collator=data_collator,\n",
        "    train_dataset=dataset,\n",
        ")"
      ],
      "execution_count": null,
      "outputs": []
    },
    {
      "cell_type": "markdown",
      "metadata": {
        "id": "o6sASa36Nf-N"
      },
      "source": [
        "### Start training"
      ]
    },
    {
      "cell_type": "code",
      "metadata": {
        "id": "VmaHZXzmkNtJ",
        "outputId": "a19880cb-bcc6-4885-bf24-c2c6d0f56d1e",
        "colab": {
          "base_uri": "https://localhost:8080/",
          "height": 738,
          "referenced_widgets": [
            "a58a66392b644b1384661e850c077a6c",
            "a491e8caa0a048beb3b5259f14eb233f",
            "837c9ddc3d594e088891874560c646b8",
            "dbf50873d62c4ba39321faefbed0cca5",
            "40bf955ba0284e84b198da6be8654219",
            "fe20a8dae6e84628b5076d02183090f5",
            "93b3f9eae3cb4e3e859cf456e3547c6d",
            "6feb10aeb43147e6aba028d065947ae8",
            "0989d41a4da24e9ebff377e02127642c",
            "42c6061ef7e44f179db5a6e3551c0f17",
            "d295dd80550447d88da0f04ce36a22ff",
            "04e7e6d291da49d5816dc98a2904e95c",
            "e7d8c3a4fecd40778e32966b29ea65a1",
            "016d7c8318f742c1943464b08232a510",
            "8388e9da9da4492c98c19235ca5fc1b5",
            "39c23c6a972b419eb2eeeebafeaedc22"
          ]
        }
      },
      "source": [
        "%%time\n",
        "trainer.train()"
      ],
      "execution_count": null,
      "outputs": [
        {
          "output_type": "display_data",
          "data": {
            "application/vnd.jupyter.widget-view+json": {
              "model_id": "a58a66392b644b1384661e850c077a6c",
              "version_minor": 0,
              "version_major": 2
            },
            "text/plain": [
              "HBox(children=(FloatProgress(value=0.0, description='Epoch', max=1.0, style=ProgressStyle(description_width='i…"
            ]
          },
          "metadata": {
            "tags": []
          }
        },
        {
          "output_type": "display_data",
          "data": {
            "application/vnd.jupyter.widget-view+json": {
              "model_id": "0989d41a4da24e9ebff377e02127642c",
              "version_minor": 0,
              "version_major": 2
            },
            "text/plain": [
              "HBox(children=(FloatProgress(value=0.0, description='Iteration', max=15228.0, style=ProgressStyle(description_…"
            ]
          },
          "metadata": {
            "tags": []
          }
        },
        {
          "output_type": "stream",
          "text": [
            "{\"loss\": 7.152712148666382, \"learning_rate\": 4.8358287365379566e-05, \"epoch\": 0.03283425269240872, \"step\": 500}\n",
            "{\"loss\": 6.928811420440674, \"learning_rate\": 4.671657473075913e-05, \"epoch\": 0.06566850538481744, \"step\": 1000}\n",
            "{\"loss\": 6.789419063568115, \"learning_rate\": 4.5074862096138694e-05, \"epoch\": 0.09850275807722617, \"step\": 1500}\n",
            "{\"loss\": 6.688932447433472, \"learning_rate\": 4.343314946151826e-05, \"epoch\": 0.1313370107696349, \"step\": 2000}\n",
            "{\"loss\": 6.595982004165649, \"learning_rate\": 4.179143682689782e-05, \"epoch\": 0.1641712634620436, \"step\": 2500}\n",
            "{\"loss\": 6.545944199562073, \"learning_rate\": 4.0149724192277385e-05, \"epoch\": 0.19700551615445233, \"step\": 3000}\n",
            "{\"loss\": 6.4864857263565066, \"learning_rate\": 3.850801155765695e-05, \"epoch\": 0.22983976884686105, \"step\": 3500}\n",
            "{\"loss\": 6.412427802085876, \"learning_rate\": 3.686629892303651e-05, \"epoch\": 0.2626740215392698, \"step\": 4000}\n",
            "{\"loss\": 6.363630670547486, \"learning_rate\": 3.522458628841608e-05, \"epoch\": 0.29550827423167847, \"step\": 4500}\n",
            "{\"loss\": 6.273832890510559, \"learning_rate\": 3.358287365379564e-05, \"epoch\": 0.3283425269240872, \"step\": 5000}\n",
            "{\"loss\": 6.197585330963134, \"learning_rate\": 3.1941161019175205e-05, \"epoch\": 0.3611767796164959, \"step\": 5500}\n",
            "{\"loss\": 6.097779376983643, \"learning_rate\": 3.029944838455477e-05, \"epoch\": 0.39401103230890466, \"step\": 6000}\n",
            "{\"loss\": 5.985456382751464, \"learning_rate\": 2.8657735749934332e-05, \"epoch\": 0.42684528500131336, \"step\": 6500}\n",
            "{\"loss\": 5.8448616371154785, \"learning_rate\": 2.70160231153139e-05, \"epoch\": 0.4596795376937221, \"step\": 7000}\n",
            "{\"loss\": 5.692522863388062, \"learning_rate\": 2.5374310480693457e-05, \"epoch\": 0.4925137903861308, \"step\": 7500}\n",
            "{\"loss\": 5.562082152366639, \"learning_rate\": 2.3732597846073024e-05, \"epoch\": 0.5253480430785396, \"step\": 8000}\n",
            "{\"loss\": 5.457240365982056, \"learning_rate\": 2.2090885211452588e-05, \"epoch\": 0.5581822957709482, \"step\": 8500}\n",
            "{\"loss\": 5.376953645706177, \"learning_rate\": 2.0449172576832152e-05, \"epoch\": 0.5910165484633569, \"step\": 9000}\n",
            "{\"loss\": 5.298609251022339, \"learning_rate\": 1.8807459942211716e-05, \"epoch\": 0.6238508011557657, \"step\": 9500}\n",
            "{\"loss\": 5.225468152046203, \"learning_rate\": 1.716574730759128e-05, \"epoch\": 0.6566850538481744, \"step\": 10000}\n",
            "{\"loss\": 5.174519973754883, \"learning_rate\": 1.5524034672970843e-05, \"epoch\": 0.6895193065405831, \"step\": 10500}\n",
            "{\"loss\": 5.113943946838379, \"learning_rate\": 1.3882322038350407e-05, \"epoch\": 0.7223535592329918, \"step\": 11000}\n",
            "{\"loss\": 5.08140989112854, \"learning_rate\": 1.2240609403729971e-05, \"epoch\": 0.7551878119254006, \"step\": 11500}\n",
            "{\"loss\": 5.072491912841797, \"learning_rate\": 1.0598896769109535e-05, \"epoch\": 0.7880220646178093, \"step\": 12000}\n",
            "{\"loss\": 5.012459496498108, \"learning_rate\": 8.957184134489099e-06, \"epoch\": 0.820856317310218, \"step\": 12500}\n",
            "{\"loss\": 4.999591351509094, \"learning_rate\": 7.315471499868663e-06, \"epoch\": 0.8536905700026267, \"step\": 13000}\n",
            "{\"loss\": 4.994838352203369, \"learning_rate\": 5.673758865248227e-06, \"epoch\": 0.8865248226950354, \"step\": 13500}\n",
            "{\"loss\": 4.955870885848999, \"learning_rate\": 4.032046230627791e-06, \"epoch\": 0.9193590753874442, \"step\": 14000}\n",
            "{\"loss\": 4.941655583381653, \"learning_rate\": 2.390333596007355e-06, \"epoch\": 0.9521933280798529, \"step\": 14500}\n",
            "{\"loss\": 4.931783639907837, \"learning_rate\": 7.486209613869189e-07, \"epoch\": 0.9850275807722616, \"step\": 15000}\n",
            "\n",
            "\n",
            "CPU times: user 1h 43min 36s, sys: 1h 3min 28s, total: 2h 47min 4s\n",
            "Wall time: 2h 46min 46s\n"
          ],
          "name": "stdout"
        },
        {
          "output_type": "execute_result",
          "data": {
            "text/plain": [
              "TrainOutput(global_step=15228, training_loss=5.762423221226405)"
            ]
          },
          "metadata": {
            "tags": []
          },
          "execution_count": 18
        }
      ]
    },
    {
      "cell_type": "markdown",
      "metadata": {
        "id": "_ZkooHz1-_2h"
      },
      "source": [
        "#### 🎉 Save final model (+ tokenizer + config) to disk"
      ]
    },
    {
      "cell_type": "code",
      "metadata": {
        "id": "QDNgPls7_l13"
      },
      "source": [
        "trainer.save_model(\"./AddressBERTa\")"
      ],
      "execution_count": null,
      "outputs": []
    },
    {
      "cell_type": "markdown",
      "metadata": {
        "id": "d0caceCy_p1-"
      },
      "source": [
        "## 4. Check that the LM actually trained"
      ]
    },
    {
      "cell_type": "markdown",
      "metadata": {
        "id": "iIQJ8ND_AEhl"
      },
      "source": [
        "Aside from looking at the training and eval losses going down, the easiest way to check whether our language model is learning anything interesting is via the `FillMaskPipeline`.\n",
        "\n",
        "Pipelines are simple wrappers around tokenizers and models, and the 'fill-mask' one will let you input a sequence containing a masked token (here, `<mask>`) and return a list of the most probable filled sequences, with their probabilities.\n",
        "\n"
      ]
    },
    {
      "cell_type": "code",
      "metadata": {
        "id": "ltXgXyCbAJLY"
      },
      "source": [
        "from transformers import pipeline\n",
        "\n",
        "fill_mask = pipeline(\n",
        "    \"fill-mask\",\n",
        "    model=\"./AddressBERTa\",\n",
        "    tokenizer=\"./AddressBERTa\"\n",
        ")"
      ],
      "execution_count": null,
      "outputs": []
    },
    {
      "cell_type": "code",
      "metadata": {
        "id": "UIvgZ3S6AO0z",
        "colab": {
          "base_uri": "https://localhost:8080/",
          "height": 283
        },
        "outputId": "5f3d2f00-abdc-44a9-9c1b-75e3ec328576"
      },
      "source": [
        "# The sun <mask>.\n",
        "# =>\n",
        "\n",
        "fill_mask(\"La suno <mask>.\")"
      ],
      "execution_count": null,
      "outputs": [
        {
          "output_type": "execute_result",
          "data": {
            "text/plain": [
              "[{'score': 0.02119220793247223,\n",
              "  'sequence': '<s> La suno estas.</s>',\n",
              "  'token': 316},\n",
              " {'score': 0.012403824366629124,\n",
              "  'sequence': '<s> La suno situas.</s>',\n",
              "  'token': 2340},\n",
              " {'score': 0.011061107739806175,\n",
              "  'sequence': '<s> La suno estis.</s>',\n",
              "  'token': 394},\n",
              " {'score': 0.008284995332360268,\n",
              "  'sequence': '<s> La suno de.</s>',\n",
              "  'token': 274},\n",
              " {'score': 0.006471084896475077,\n",
              "  'sequence': '<s> La suno akvo.</s>',\n",
              "  'token': 1833}]"
            ]
          },
          "metadata": {
            "tags": []
          },
          "execution_count": 36
        }
      ]
    },
    {
      "cell_type": "markdown",
      "metadata": {
        "id": "i0qCyyhNAWZi"
      },
      "source": [
        "Ok, simple syntax/grammar works. Let’s try a slightly more interesting prompt:\n",
        "\n"
      ]
    },
    {
      "cell_type": "code",
      "metadata": {
        "id": "YZ9HSQxAAbme",
        "colab": {
          "base_uri": "https://localhost:8080/",
          "height": 283
        },
        "outputId": "aabfeedc-b1d0-4837-b01d-cd42726a5a3d"
      },
      "source": [
        "fill_mask(\"Jen la komenco de bela <mask>.\")\n",
        "\n",
        "# This is the beginning of a beautiful <mask>.\n",
        "# =>"
      ],
      "execution_count": null,
      "outputs": [
        {
          "output_type": "execute_result",
          "data": {
            "text/plain": [
              "[{'score': 0.01814725436270237,\n",
              "  'sequence': '<s> Jen la komenco de bela urbo.</s>',\n",
              "  'token': 871},\n",
              " {'score': 0.015888698399066925,\n",
              "  'sequence': '<s> Jen la komenco de bela vivo.</s>',\n",
              "  'token': 1160},\n",
              " {'score': 0.015662025660276413,\n",
              "  'sequence': '<s> Jen la komenco de bela tempo.</s>',\n",
              "  'token': 1021},\n",
              " {'score': 0.015555007383227348,\n",
              "  'sequence': '<s> Jen la komenco de bela mondo.</s>',\n",
              "  'token': 945},\n",
              " {'score': 0.01412549614906311,\n",
              "  'sequence': '<s> Jen la komenco de bela tago.</s>',\n",
              "  'token': 1633}]"
            ]
          },
          "metadata": {
            "tags": []
          },
          "execution_count": 37
        }
      ]
    },
    {
      "cell_type": "markdown",
      "metadata": {
        "id": "6RsGaD1qAfLP"
      },
      "source": [
        "## 5. Share your model 🎉"
      ]
    },
    {
      "cell_type": "markdown",
      "metadata": {
        "id": "5oESe8djApQw"
      },
      "source": [
        "Finally, when you have a nice model, please think about sharing it with the community:\n",
        "\n",
        "- upload your model using the CLI: `transformers-cli upload`\n",
        "- write a README.md model card and add it to the repository under `model_cards/`. Your model card should ideally include:\n",
        "    - a model description,\n",
        "    - training params (dataset, preprocessing, hyperparameters), \n",
        "    - evaluation results,\n",
        "    - intended uses & limitations\n",
        "    - whatever else is helpful! 🤓\n",
        "\n",
        "### **TADA!**\n",
        "\n",
        "➡️ Your model has a page on http://huggingface.co/models and everyone can load it using `AutoModel.from_pretrained(\"username/model_name\")`.\n",
        "\n",
        "[![tb](https://huggingface.co/blog/assets/01_how-to-train/model_page.png)](https://huggingface.co/julien-c/EsperBERTo-small)\n"
      ]
    },
    {
      "cell_type": "markdown",
      "metadata": {
        "id": "aw9ifsgqBI2o"
      },
      "source": [
        "If you want to take a look at models in different languages, check https://huggingface.co/models\n",
        "\n",
        "[![all models](https://huggingface.co/front/thumbnails/models.png)](https://huggingface.co/models)\n"
      ]
    }
  ]
}